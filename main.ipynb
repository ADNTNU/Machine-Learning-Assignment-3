{
 "cells": [
  {
   "cell_type": "code",
   "execution_count": 309,
   "metadata": {},
   "outputs": [],
   "source": [
    "# Import the necessary libraries\n",
    "from tensorflow.keras.datasets import fashion_mnist\n",
    "from tensorflow.keras.models import Sequential\n",
    "from tensorflow.keras.layers import Dense, Flatten, Dropout, MaxPooling2D, Conv2D, ReLU, BatchNormalization, GlobalAveragePooling2D, Input \n",
    "\n",
    "\n",
    "from tensorflow.keras.optimizers import Adam, SGD\n",
    "\n",
    "import numpy as np\n",
    "import matplotlib.pyplot as plt\n",
    "import pandas as pd"
   ]
  },
  {
   "cell_type": "code",
   "execution_count": 310,
   "metadata": {},
   "outputs": [],
   "source": [
    "# Load the data\n",
    "(x_train_full, y_train_full), (x_test, y_test) = fashion_mnist.load_data()"
   ]
  },
  {
   "cell_type": "code",
   "execution_count": 311,
   "metadata": {},
   "outputs": [],
   "source": [
    "# Split and normalize the data\n",
    "# Dividing by 255.0 normalizes the data to the range [0, 1]\n",
    "x_valid, x_train = x_train_full[:5000] / 255.0, x_train_full[5000:] / 255.0\n",
    "y_valid, y_train = y_train_full[:5000], y_train_full[5000:]\n",
    "\n",
    "# Define the classes\n",
    "class_names = [\"T-shirt/top\", \"Trouser\", \"Pullover\", \"Dress\", \"Coat\",\n",
    "               \"Sandal\", \"Shirt\", \"Sneaker\", \"Bag\", \"Ankle boot\"]"
   ]
  },
  {
   "cell_type": "code",
   "execution_count": 312,
   "metadata": {},
   "outputs": [],
   "source": [
    "# Define the neural network model\n",
    "# model = Sequential([\n",
    "#     # Flatten the 28x28 Images into a 1D array\n",
    "#     Flatten(input_shape=(28, 28)),\n",
    "#     # Adds a dense hidden layer with 128 neurons and relu activation\n",
    "#     # Dense(128, activation='relu'),\n",
    "#     Dense(128, activation='relu'),\n",
    "#     # Adds a dense hidden layer with 64 neurons and relu activation\n",
    "#     Dense(64, activation='relu'),\n",
    "#     # Add a dropout layer with 0.2 dropout rate\n",
    "#     Dropout(0.2),\n",
    "#     # Adds a dense output layer with 10 neurons and softmax activation\n",
    "#     Dense(10, activation='softmax')\n",
    "# ])\n",
    "\n",
    "model = Sequential([\n",
    "    # Define the input shape\n",
    "    Input(shape=(28, 28, 1)),\n",
    "\n",
    "    # First convolutional layer\n",
    "    Conv2D(32, (3, 3), activation='relu'),\n",
    "    BatchNormalization(),\n",
    "    MaxPooling2D((2, 2)),\n",
    "    Dropout(0.2),\n",
    "    \n",
    "    # Second convolutional layer\n",
    "    Conv2D(128, (3, 3), activation='relu'),\n",
    "    BatchNormalization(),\n",
    "    MaxPooling2D((2, 2)),\n",
    "    Dropout(0.2),\n",
    "    \n",
    "    # Third convolutional layer\n",
    "    Conv2D(256, (3, 3), activation='relu'),\n",
    "    BatchNormalization(),\n",
    "\n",
    "    \n",
    "    # Flatten(),\n",
    "    GlobalAveragePooling2D(),\n",
    "    Dense(128, activation='relu'),\n",
    "    Dropout(0.5),\n",
    "    Dense(10, activation='softmax')\n",
    "])\n"
   ]
  },
  {
   "cell_type": "code",
   "execution_count": 313,
   "metadata": {},
   "outputs": [
    {
     "data": {
      "text/html": [
       "<pre style=\"white-space:pre;overflow-x:auto;line-height:normal;font-family:Menlo,'DejaVu Sans Mono',consolas,'Courier New',monospace\"><span style=\"font-weight: bold\">Model: \"sequential_36\"</span>\n",
       "</pre>\n"
      ],
      "text/plain": [
       "\u001b[1mModel: \"sequential_36\"\u001b[0m\n"
      ]
     },
     "metadata": {},
     "output_type": "display_data"
    },
    {
     "data": {
      "text/html": [
       "<pre style=\"white-space:pre;overflow-x:auto;line-height:normal;font-family:Menlo,'DejaVu Sans Mono',consolas,'Courier New',monospace\">┏━━━━━━━━━━━━━━━━━━━━━━━━━━━━━━━━━┳━━━━━━━━━━━━━━━━━━━━━━━━┳━━━━━━━━━━━━━━━┓\n",
       "┃<span style=\"font-weight: bold\"> Layer (type)                    </span>┃<span style=\"font-weight: bold\"> Output Shape           </span>┃<span style=\"font-weight: bold\">       Param # </span>┃\n",
       "┡━━━━━━━━━━━━━━━━━━━━━━━━━━━━━━━━━╇━━━━━━━━━━━━━━━━━━━━━━━━╇━━━━━━━━━━━━━━━┩\n",
       "│ conv2d_88 (<span style=\"color: #0087ff; text-decoration-color: #0087ff\">Conv2D</span>)              │ (<span style=\"color: #00d7ff; text-decoration-color: #00d7ff\">None</span>, <span style=\"color: #00af00; text-decoration-color: #00af00\">26</span>, <span style=\"color: #00af00; text-decoration-color: #00af00\">26</span>, <span style=\"color: #00af00; text-decoration-color: #00af00\">32</span>)     │           <span style=\"color: #00af00; text-decoration-color: #00af00\">320</span> │\n",
       "├─────────────────────────────────┼────────────────────────┼───────────────┤\n",
       "│ batch_normalization_9           │ (<span style=\"color: #00d7ff; text-decoration-color: #00d7ff\">None</span>, <span style=\"color: #00af00; text-decoration-color: #00af00\">26</span>, <span style=\"color: #00af00; text-decoration-color: #00af00\">26</span>, <span style=\"color: #00af00; text-decoration-color: #00af00\">32</span>)     │           <span style=\"color: #00af00; text-decoration-color: #00af00\">128</span> │\n",
       "│ (<span style=\"color: #0087ff; text-decoration-color: #0087ff\">BatchNormalization</span>)            │                        │               │\n",
       "├─────────────────────────────────┼────────────────────────┼───────────────┤\n",
       "│ max_pooling2d_69 (<span style=\"color: #0087ff; text-decoration-color: #0087ff\">MaxPooling2D</span>) │ (<span style=\"color: #00d7ff; text-decoration-color: #00d7ff\">None</span>, <span style=\"color: #00af00; text-decoration-color: #00af00\">13</span>, <span style=\"color: #00af00; text-decoration-color: #00af00\">13</span>, <span style=\"color: #00af00; text-decoration-color: #00af00\">32</span>)     │             <span style=\"color: #00af00; text-decoration-color: #00af00\">0</span> │\n",
       "├─────────────────────────────────┼────────────────────────┼───────────────┤\n",
       "│ dropout_68 (<span style=\"color: #0087ff; text-decoration-color: #0087ff\">Dropout</span>)            │ (<span style=\"color: #00d7ff; text-decoration-color: #00d7ff\">None</span>, <span style=\"color: #00af00; text-decoration-color: #00af00\">13</span>, <span style=\"color: #00af00; text-decoration-color: #00af00\">13</span>, <span style=\"color: #00af00; text-decoration-color: #00af00\">32</span>)     │             <span style=\"color: #00af00; text-decoration-color: #00af00\">0</span> │\n",
       "├─────────────────────────────────┼────────────────────────┼───────────────┤\n",
       "│ conv2d_89 (<span style=\"color: #0087ff; text-decoration-color: #0087ff\">Conv2D</span>)              │ (<span style=\"color: #00d7ff; text-decoration-color: #00d7ff\">None</span>, <span style=\"color: #00af00; text-decoration-color: #00af00\">11</span>, <span style=\"color: #00af00; text-decoration-color: #00af00\">11</span>, <span style=\"color: #00af00; text-decoration-color: #00af00\">128</span>)    │        <span style=\"color: #00af00; text-decoration-color: #00af00\">36,992</span> │\n",
       "├─────────────────────────────────┼────────────────────────┼───────────────┤\n",
       "│ batch_normalization_10          │ (<span style=\"color: #00d7ff; text-decoration-color: #00d7ff\">None</span>, <span style=\"color: #00af00; text-decoration-color: #00af00\">11</span>, <span style=\"color: #00af00; text-decoration-color: #00af00\">11</span>, <span style=\"color: #00af00; text-decoration-color: #00af00\">128</span>)    │           <span style=\"color: #00af00; text-decoration-color: #00af00\">512</span> │\n",
       "│ (<span style=\"color: #0087ff; text-decoration-color: #0087ff\">BatchNormalization</span>)            │                        │               │\n",
       "├─────────────────────────────────┼────────────────────────┼───────────────┤\n",
       "│ max_pooling2d_70 (<span style=\"color: #0087ff; text-decoration-color: #0087ff\">MaxPooling2D</span>) │ (<span style=\"color: #00d7ff; text-decoration-color: #00d7ff\">None</span>, <span style=\"color: #00af00; text-decoration-color: #00af00\">5</span>, <span style=\"color: #00af00; text-decoration-color: #00af00\">5</span>, <span style=\"color: #00af00; text-decoration-color: #00af00\">128</span>)      │             <span style=\"color: #00af00; text-decoration-color: #00af00\">0</span> │\n",
       "├─────────────────────────────────┼────────────────────────┼───────────────┤\n",
       "│ dropout_69 (<span style=\"color: #0087ff; text-decoration-color: #0087ff\">Dropout</span>)            │ (<span style=\"color: #00d7ff; text-decoration-color: #00d7ff\">None</span>, <span style=\"color: #00af00; text-decoration-color: #00af00\">5</span>, <span style=\"color: #00af00; text-decoration-color: #00af00\">5</span>, <span style=\"color: #00af00; text-decoration-color: #00af00\">128</span>)      │             <span style=\"color: #00af00; text-decoration-color: #00af00\">0</span> │\n",
       "├─────────────────────────────────┼────────────────────────┼───────────────┤\n",
       "│ conv2d_90 (<span style=\"color: #0087ff; text-decoration-color: #0087ff\">Conv2D</span>)              │ (<span style=\"color: #00d7ff; text-decoration-color: #00d7ff\">None</span>, <span style=\"color: #00af00; text-decoration-color: #00af00\">3</span>, <span style=\"color: #00af00; text-decoration-color: #00af00\">3</span>, <span style=\"color: #00af00; text-decoration-color: #00af00\">256</span>)      │       <span style=\"color: #00af00; text-decoration-color: #00af00\">295,168</span> │\n",
       "├─────────────────────────────────┼────────────────────────┼───────────────┤\n",
       "│ batch_normalization_11          │ (<span style=\"color: #00d7ff; text-decoration-color: #00d7ff\">None</span>, <span style=\"color: #00af00; text-decoration-color: #00af00\">3</span>, <span style=\"color: #00af00; text-decoration-color: #00af00\">3</span>, <span style=\"color: #00af00; text-decoration-color: #00af00\">256</span>)      │         <span style=\"color: #00af00; text-decoration-color: #00af00\">1,024</span> │\n",
       "│ (<span style=\"color: #0087ff; text-decoration-color: #0087ff\">BatchNormalization</span>)            │                        │               │\n",
       "├─────────────────────────────────┼────────────────────────┼───────────────┤\n",
       "│ global_average_pooling2d_1      │ (<span style=\"color: #00d7ff; text-decoration-color: #00d7ff\">None</span>, <span style=\"color: #00af00; text-decoration-color: #00af00\">256</span>)            │             <span style=\"color: #00af00; text-decoration-color: #00af00\">0</span> │\n",
       "│ (<span style=\"color: #0087ff; text-decoration-color: #0087ff\">GlobalAveragePooling2D</span>)        │                        │               │\n",
       "├─────────────────────────────────┼────────────────────────┼───────────────┤\n",
       "│ dense_88 (<span style=\"color: #0087ff; text-decoration-color: #0087ff\">Dense</span>)                │ (<span style=\"color: #00d7ff; text-decoration-color: #00d7ff\">None</span>, <span style=\"color: #00af00; text-decoration-color: #00af00\">128</span>)            │        <span style=\"color: #00af00; text-decoration-color: #00af00\">32,896</span> │\n",
       "├─────────────────────────────────┼────────────────────────┼───────────────┤\n",
       "│ dropout_70 (<span style=\"color: #0087ff; text-decoration-color: #0087ff\">Dropout</span>)            │ (<span style=\"color: #00d7ff; text-decoration-color: #00d7ff\">None</span>, <span style=\"color: #00af00; text-decoration-color: #00af00\">128</span>)            │             <span style=\"color: #00af00; text-decoration-color: #00af00\">0</span> │\n",
       "├─────────────────────────────────┼────────────────────────┼───────────────┤\n",
       "│ dense_89 (<span style=\"color: #0087ff; text-decoration-color: #0087ff\">Dense</span>)                │ (<span style=\"color: #00d7ff; text-decoration-color: #00d7ff\">None</span>, <span style=\"color: #00af00; text-decoration-color: #00af00\">10</span>)             │         <span style=\"color: #00af00; text-decoration-color: #00af00\">1,290</span> │\n",
       "└─────────────────────────────────┴────────────────────────┴───────────────┘\n",
       "</pre>\n"
      ],
      "text/plain": [
       "┏━━━━━━━━━━━━━━━━━━━━━━━━━━━━━━━━━┳━━━━━━━━━━━━━━━━━━━━━━━━┳━━━━━━━━━━━━━━━┓\n",
       "┃\u001b[1m \u001b[0m\u001b[1mLayer (type)                   \u001b[0m\u001b[1m \u001b[0m┃\u001b[1m \u001b[0m\u001b[1mOutput Shape          \u001b[0m\u001b[1m \u001b[0m┃\u001b[1m \u001b[0m\u001b[1m      Param #\u001b[0m\u001b[1m \u001b[0m┃\n",
       "┡━━━━━━━━━━━━━━━━━━━━━━━━━━━━━━━━━╇━━━━━━━━━━━━━━━━━━━━━━━━╇━━━━━━━━━━━━━━━┩\n",
       "│ conv2d_88 (\u001b[38;5;33mConv2D\u001b[0m)              │ (\u001b[38;5;45mNone\u001b[0m, \u001b[38;5;34m26\u001b[0m, \u001b[38;5;34m26\u001b[0m, \u001b[38;5;34m32\u001b[0m)     │           \u001b[38;5;34m320\u001b[0m │\n",
       "├─────────────────────────────────┼────────────────────────┼───────────────┤\n",
       "│ batch_normalization_9           │ (\u001b[38;5;45mNone\u001b[0m, \u001b[38;5;34m26\u001b[0m, \u001b[38;5;34m26\u001b[0m, \u001b[38;5;34m32\u001b[0m)     │           \u001b[38;5;34m128\u001b[0m │\n",
       "│ (\u001b[38;5;33mBatchNormalization\u001b[0m)            │                        │               │\n",
       "├─────────────────────────────────┼────────────────────────┼───────────────┤\n",
       "│ max_pooling2d_69 (\u001b[38;5;33mMaxPooling2D\u001b[0m) │ (\u001b[38;5;45mNone\u001b[0m, \u001b[38;5;34m13\u001b[0m, \u001b[38;5;34m13\u001b[0m, \u001b[38;5;34m32\u001b[0m)     │             \u001b[38;5;34m0\u001b[0m │\n",
       "├─────────────────────────────────┼────────────────────────┼───────────────┤\n",
       "│ dropout_68 (\u001b[38;5;33mDropout\u001b[0m)            │ (\u001b[38;5;45mNone\u001b[0m, \u001b[38;5;34m13\u001b[0m, \u001b[38;5;34m13\u001b[0m, \u001b[38;5;34m32\u001b[0m)     │             \u001b[38;5;34m0\u001b[0m │\n",
       "├─────────────────────────────────┼────────────────────────┼───────────────┤\n",
       "│ conv2d_89 (\u001b[38;5;33mConv2D\u001b[0m)              │ (\u001b[38;5;45mNone\u001b[0m, \u001b[38;5;34m11\u001b[0m, \u001b[38;5;34m11\u001b[0m, \u001b[38;5;34m128\u001b[0m)    │        \u001b[38;5;34m36,992\u001b[0m │\n",
       "├─────────────────────────────────┼────────────────────────┼───────────────┤\n",
       "│ batch_normalization_10          │ (\u001b[38;5;45mNone\u001b[0m, \u001b[38;5;34m11\u001b[0m, \u001b[38;5;34m11\u001b[0m, \u001b[38;5;34m128\u001b[0m)    │           \u001b[38;5;34m512\u001b[0m │\n",
       "│ (\u001b[38;5;33mBatchNormalization\u001b[0m)            │                        │               │\n",
       "├─────────────────────────────────┼────────────────────────┼───────────────┤\n",
       "│ max_pooling2d_70 (\u001b[38;5;33mMaxPooling2D\u001b[0m) │ (\u001b[38;5;45mNone\u001b[0m, \u001b[38;5;34m5\u001b[0m, \u001b[38;5;34m5\u001b[0m, \u001b[38;5;34m128\u001b[0m)      │             \u001b[38;5;34m0\u001b[0m │\n",
       "├─────────────────────────────────┼────────────────────────┼───────────────┤\n",
       "│ dropout_69 (\u001b[38;5;33mDropout\u001b[0m)            │ (\u001b[38;5;45mNone\u001b[0m, \u001b[38;5;34m5\u001b[0m, \u001b[38;5;34m5\u001b[0m, \u001b[38;5;34m128\u001b[0m)      │             \u001b[38;5;34m0\u001b[0m │\n",
       "├─────────────────────────────────┼────────────────────────┼───────────────┤\n",
       "│ conv2d_90 (\u001b[38;5;33mConv2D\u001b[0m)              │ (\u001b[38;5;45mNone\u001b[0m, \u001b[38;5;34m3\u001b[0m, \u001b[38;5;34m3\u001b[0m, \u001b[38;5;34m256\u001b[0m)      │       \u001b[38;5;34m295,168\u001b[0m │\n",
       "├─────────────────────────────────┼────────────────────────┼───────────────┤\n",
       "│ batch_normalization_11          │ (\u001b[38;5;45mNone\u001b[0m, \u001b[38;5;34m3\u001b[0m, \u001b[38;5;34m3\u001b[0m, \u001b[38;5;34m256\u001b[0m)      │         \u001b[38;5;34m1,024\u001b[0m │\n",
       "│ (\u001b[38;5;33mBatchNormalization\u001b[0m)            │                        │               │\n",
       "├─────────────────────────────────┼────────────────────────┼───────────────┤\n",
       "│ global_average_pooling2d_1      │ (\u001b[38;5;45mNone\u001b[0m, \u001b[38;5;34m256\u001b[0m)            │             \u001b[38;5;34m0\u001b[0m │\n",
       "│ (\u001b[38;5;33mGlobalAveragePooling2D\u001b[0m)        │                        │               │\n",
       "├─────────────────────────────────┼────────────────────────┼───────────────┤\n",
       "│ dense_88 (\u001b[38;5;33mDense\u001b[0m)                │ (\u001b[38;5;45mNone\u001b[0m, \u001b[38;5;34m128\u001b[0m)            │        \u001b[38;5;34m32,896\u001b[0m │\n",
       "├─────────────────────────────────┼────────────────────────┼───────────────┤\n",
       "│ dropout_70 (\u001b[38;5;33mDropout\u001b[0m)            │ (\u001b[38;5;45mNone\u001b[0m, \u001b[38;5;34m128\u001b[0m)            │             \u001b[38;5;34m0\u001b[0m │\n",
       "├─────────────────────────────────┼────────────────────────┼───────────────┤\n",
       "│ dense_89 (\u001b[38;5;33mDense\u001b[0m)                │ (\u001b[38;5;45mNone\u001b[0m, \u001b[38;5;34m10\u001b[0m)             │         \u001b[38;5;34m1,290\u001b[0m │\n",
       "└─────────────────────────────────┴────────────────────────┴───────────────┘\n"
      ]
     },
     "metadata": {},
     "output_type": "display_data"
    },
    {
     "data": {
      "text/html": [
       "<pre style=\"white-space:pre;overflow-x:auto;line-height:normal;font-family:Menlo,'DejaVu Sans Mono',consolas,'Courier New',monospace\"><span style=\"font-weight: bold\"> Total params: </span><span style=\"color: #00af00; text-decoration-color: #00af00\">368,330</span> (1.41 MB)\n",
       "</pre>\n"
      ],
      "text/plain": [
       "\u001b[1m Total params: \u001b[0m\u001b[38;5;34m368,330\u001b[0m (1.41 MB)\n"
      ]
     },
     "metadata": {},
     "output_type": "display_data"
    },
    {
     "data": {
      "text/html": [
       "<pre style=\"white-space:pre;overflow-x:auto;line-height:normal;font-family:Menlo,'DejaVu Sans Mono',consolas,'Courier New',monospace\"><span style=\"font-weight: bold\"> Trainable params: </span><span style=\"color: #00af00; text-decoration-color: #00af00\">367,498</span> (1.40 MB)\n",
       "</pre>\n"
      ],
      "text/plain": [
       "\u001b[1m Trainable params: \u001b[0m\u001b[38;5;34m367,498\u001b[0m (1.40 MB)\n"
      ]
     },
     "metadata": {},
     "output_type": "display_data"
    },
    {
     "data": {
      "text/html": [
       "<pre style=\"white-space:pre;overflow-x:auto;line-height:normal;font-family:Menlo,'DejaVu Sans Mono',consolas,'Courier New',monospace\"><span style=\"font-weight: bold\"> Non-trainable params: </span><span style=\"color: #00af00; text-decoration-color: #00af00\">832</span> (3.25 KB)\n",
       "</pre>\n"
      ],
      "text/plain": [
       "\u001b[1m Non-trainable params: \u001b[0m\u001b[38;5;34m832\u001b[0m (3.25 KB)\n"
      ]
     },
     "metadata": {},
     "output_type": "display_data"
    },
    {
     "name": "stdout",
     "output_type": "stream",
     "text": [
      "Weights: [[[[ 0.01070191 -0.02216939 -0.0031631  ...  0.00692385 -0.02751025\n",
      "     0.0013231 ]\n",
      "   [-0.0032806  -0.02570679 -0.00017832 ... -0.00727691 -0.02166649\n",
      "    -0.02512868]\n",
      "   [ 0.02294193  0.01792601  0.0095841  ...  0.01370228 -0.02872888\n",
      "    -0.03067695]\n",
      "   ...\n",
      "   [-0.00865625 -0.04084235  0.00170679 ...  0.031286   -0.00041558\n",
      "    -0.00508605]\n",
      "   [ 0.01431661 -0.00819269  0.02992936 ...  0.03089311  0.00702365\n",
      "     0.03102983]\n",
      "   [-0.01605057  0.02242414  0.02220554 ...  0.02749479  0.04016151\n",
      "     0.01143567]]\n",
      "\n",
      "  [[-0.02605752 -0.00616817 -0.03134121 ...  0.03667105 -0.00677589\n",
      "     0.01385675]\n",
      "   [ 0.00425261  0.01139314  0.03489826 ... -0.02006426  0.00625527\n",
      "     0.0358075 ]\n",
      "   [-0.03824788 -0.00011277 -0.00340464 ...  0.04098006  0.02674146\n",
      "    -0.00435084]\n",
      "   ...\n",
      "   [ 0.026973    0.01875859  0.03003553 ... -0.03676685  0.0058955\n",
      "     0.01868883]\n",
      "   [ 0.03554974 -0.02998412  0.03182337 ... -0.0132782  -0.00937007\n",
      "     0.03507108]\n",
      "   [-0.00047504  0.01955213  0.00327517 ... -0.00761668 -0.00359017\n",
      "     0.03294022]]\n",
      "\n",
      "  [[-0.01486225 -0.02745575  0.01993055 ... -0.03425443 -0.02564727\n",
      "     0.01897776]\n",
      "   [ 0.01168866  0.03545411 -0.00584677 ...  0.00918896 -0.01946994\n",
      "    -0.02550333]\n",
      "   [ 0.00452837  0.01572149  0.01194416 ... -0.01556665  0.00399347\n",
      "     0.01420793]\n",
      "   ...\n",
      "   [-0.01035671 -0.03683573 -0.00541264 ... -0.03458145 -0.01296771\n",
      "     0.03495873]\n",
      "   [ 0.01037768  0.01299362  0.00610087 ... -0.02466532  0.03904261\n",
      "    -0.02306773]\n",
      "   [-0.01622985 -0.00090535 -0.014266   ...  0.00842239  0.04094798\n",
      "    -0.02219567]]]\n",
      "\n",
      "\n",
      " [[[-0.01591033  0.02042146  0.00856081 ...  0.02187653  0.02389306\n",
      "     0.01870536]\n",
      "   [ 0.00881519  0.00640749 -0.00395772 ...  0.03103401 -0.01988009\n",
      "     0.01169342]\n",
      "   [ 0.03308709  0.0382074  -0.00213919 ... -0.02713522 -0.01007687\n",
      "    -0.00871994]\n",
      "   ...\n",
      "   [ 0.02950947 -0.03432023  0.03446283 ... -0.01296956  0.02151429\n",
      "    -0.01419141]\n",
      "   [-0.00452411  0.02977765  0.01724422 ...  0.02290763  0.02285742\n",
      "     0.02527807]\n",
      "   [ 0.00496808 -0.00950127 -0.04007617 ...  0.02804378  0.0389058\n",
      "     0.01759819]]\n",
      "\n",
      "  [[-0.02476096  0.03970753 -0.02847924 ...  0.03902052  0.00790248\n",
      "     0.01965294]\n",
      "   [ 0.02245129 -0.02241114  0.02382103 ...  0.040671   -0.02473391\n",
      "     0.00679899]\n",
      "   [-0.01012919  0.01172944  0.0155219  ... -0.02643623  0.00354394\n",
      "     0.02146267]\n",
      "   ...\n",
      "   [-0.01967151  0.01489864 -0.01469201 ... -0.01517942  0.04159385\n",
      "    -0.00778128]\n",
      "   [ 0.0205672   0.02016982 -0.00088915 ... -0.02663066  0.03332098\n",
      "    -0.00187437]\n",
      "   [-0.01561903 -0.03447789  0.01242777 ...  0.01806856  0.02241813\n",
      "    -0.0405784 ]]\n",
      "\n",
      "  [[-0.03858044  0.03710299 -0.01981736 ... -0.00732611  0.02091796\n",
      "     0.00208531]\n",
      "   [ 0.03262905  0.00590942  0.03191783 ... -0.01493575  0.03774523\n",
      "    -0.00102377]\n",
      "   [-0.02904046  0.01213496 -0.03924846 ... -0.00586889  0.01863327\n",
      "     0.0109644 ]\n",
      "   ...\n",
      "   [-0.01224443 -0.01006292  0.02802687 ...  0.01601281  0.0394187\n",
      "    -0.04156221]\n",
      "   [-0.02280502  0.02751542  0.02962454 ... -0.01141939  0.00710397\n",
      "    -0.02970019]\n",
      "   [ 0.00959527  0.03725332 -0.02158194 ...  0.01296316 -0.03359479\n",
      "     0.01806403]]]\n",
      "\n",
      "\n",
      " [[[ 0.02890641  0.01290755  0.0340295  ...  0.03096001 -0.01645981\n",
      "    -0.00646713]\n",
      "   [-0.02855351 -0.02008339 -0.0067932  ... -0.00825735 -0.00233045\n",
      "    -0.0118304 ]\n",
      "   [-0.03719246 -0.04034181  0.00247756 ... -0.01085355 -0.02565437\n",
      "     0.03471379]\n",
      "   ...\n",
      "   [-0.00303711 -0.04073797 -0.00724217 ... -0.03456524  0.01433827\n",
      "     0.01919842]\n",
      "   [ 0.00750942  0.03545035  0.00851552 ...  0.01800631 -0.0022208\n",
      "    -0.02373841]\n",
      "   [-0.01525368 -0.00097139 -0.02809278 ...  0.02054312 -0.01224272\n",
      "    -0.03181642]]\n",
      "\n",
      "  [[-0.03765523  0.0214722   0.00577027 ...  0.02681605  0.00197942\n",
      "    -0.00443104]\n",
      "   [ 0.02106099  0.01533661  0.03576548 ...  0.03890178 -0.03575337\n",
      "     0.01762392]\n",
      "   [ 0.02461343  0.01245812 -0.03680483 ...  0.03225887  0.0041441\n",
      "    -0.0380097 ]\n",
      "   ...\n",
      "   [-0.00448142  0.00339885 -0.00186063 ... -0.03640782  0.01845779\n",
      "     0.00892308]\n",
      "   [-0.01665902 -0.00866662 -0.00527615 ...  0.03456743 -0.0142478\n",
      "     0.01238845]\n",
      "   [-0.03484433  0.02744998 -0.01013511 ... -0.01037036  0.011826\n",
      "     0.02124367]]\n",
      "\n",
      "  [[ 0.01548228 -0.00948137 -0.03729276 ... -0.01342394  0.00437213\n",
      "    -0.00328149]\n",
      "   [ 0.02483401  0.01688284  0.03073067 ...  0.02996622  0.01340133\n",
      "    -0.02670031]\n",
      "   [-0.02926844  0.00985867  0.02419445 ...  0.03369195 -0.0070085\n",
      "    -0.01764812]\n",
      "   ...\n",
      "   [ 0.02005106  0.02751068 -0.02789219 ...  0.01351516  0.01952813\n",
      "    -0.0165632 ]\n",
      "   [ 0.01253161  0.02850993 -0.03210817 ...  0.04059433  0.02301384\n",
      "     0.00557398]\n",
      "   [-0.03820317  0.01038582  0.02156519 ... -0.01653898  0.01352512\n",
      "     0.024377  ]]]]\n",
      "Weights shape: (3, 3, 128, 256)\n",
      "Biases: [0. 0. 0. 0. 0. 0. 0. 0. 0. 0. 0. 0. 0. 0. 0. 0. 0. 0. 0. 0. 0. 0. 0. 0.\n",
      " 0. 0. 0. 0. 0. 0. 0. 0. 0. 0. 0. 0. 0. 0. 0. 0. 0. 0. 0. 0. 0. 0. 0. 0.\n",
      " 0. 0. 0. 0. 0. 0. 0. 0. 0. 0. 0. 0. 0. 0. 0. 0. 0. 0. 0. 0. 0. 0. 0. 0.\n",
      " 0. 0. 0. 0. 0. 0. 0. 0. 0. 0. 0. 0. 0. 0. 0. 0. 0. 0. 0. 0. 0. 0. 0. 0.\n",
      " 0. 0. 0. 0. 0. 0. 0. 0. 0. 0. 0. 0. 0. 0. 0. 0. 0. 0. 0. 0. 0. 0. 0. 0.\n",
      " 0. 0. 0. 0. 0. 0. 0. 0. 0. 0. 0. 0. 0. 0. 0. 0. 0. 0. 0. 0. 0. 0. 0. 0.\n",
      " 0. 0. 0. 0. 0. 0. 0. 0. 0. 0. 0. 0. 0. 0. 0. 0. 0. 0. 0. 0. 0. 0. 0. 0.\n",
      " 0. 0. 0. 0. 0. 0. 0. 0. 0. 0. 0. 0. 0. 0. 0. 0. 0. 0. 0. 0. 0. 0. 0. 0.\n",
      " 0. 0. 0. 0. 0. 0. 0. 0. 0. 0. 0. 0. 0. 0. 0. 0. 0. 0. 0. 0. 0. 0. 0. 0.\n",
      " 0. 0. 0. 0. 0. 0. 0. 0. 0. 0. 0. 0. 0. 0. 0. 0. 0. 0. 0. 0. 0. 0. 0. 0.\n",
      " 0. 0. 0. 0. 0. 0. 0. 0. 0. 0. 0. 0. 0. 0. 0. 0.]\n",
      "Biases shape: (256,)\n"
     ]
    }
   ],
   "source": [
    "# Info about the model\n",
    "model.summary()\n",
    "\n",
    "# Show the weights and biases of the first hidden layer\n",
    "weights, biases = model.layers[8].get_weights()\n",
    "\n",
    "print(f\"Weights: {weights}\")\n",
    "\n",
    "print(f\"Weights shape: {weights.shape}\")\n",
    "\n",
    "print(f\"Biases: {biases}\")\n",
    "\n",
    "print(f\"Biases shape: {biases.shape}\")\n"
   ]
  },
  {
   "cell_type": "code",
   "execution_count": 314,
   "metadata": {},
   "outputs": [],
   "source": [
    "# Compile the model\n",
    "model.compile(\n",
    "    # Use the categorical crossentropy loss function\n",
    "    # loss='categorical_crossentropy',\n",
    "    # Use the sparse categorical crossentropy loss function\n",
    "    loss='sparse_categorical_crossentropy',\n",
    "    # Use the sgd optimizer\n",
    "    # optimizer='sgd',\n",
    "    # Use the adam optimizer\n",
    "    # optimizer='adam',\n",
    "    optimizer=SGD(learning_rate=0.1),\n",
    "    # Use accuracy as the performance metric\n",
    "    metrics=['accuracy']\n",
    ")"
   ]
  },
  {
   "cell_type": "code",
   "execution_count": 315,
   "metadata": {},
   "outputs": [
    {
     "name": "stdout",
     "output_type": "stream",
     "text": [
      "Epoch 1/20\n",
      "\u001b[1m860/860\u001b[0m \u001b[32m━━━━━━━━━━━━━━━━━━━━\u001b[0m\u001b[37m\u001b[0m \u001b[1m8s\u001b[0m 9ms/step - accuracy: 0.7319 - loss: 0.7382 - val_accuracy: 0.8292 - val_loss: 0.4545\n",
      "Epoch 2/20\n",
      "\u001b[1m860/860\u001b[0m \u001b[32m━━━━━━━━━━━━━━━━━━━━\u001b[0m\u001b[37m\u001b[0m \u001b[1m7s\u001b[0m 9ms/step - accuracy: 0.8522 - loss: 0.4091 - val_accuracy: 0.8444 - val_loss: 0.4055\n",
      "Epoch 3/20\n",
      "\u001b[1m860/860\u001b[0m \u001b[32m━━━━━━━━━━━━━━━━━━━━\u001b[0m\u001b[37m\u001b[0m \u001b[1m7s\u001b[0m 8ms/step - accuracy: 0.8711 - loss: 0.3559 - val_accuracy: 0.8784 - val_loss: 0.3227\n",
      "Epoch 4/20\n",
      "\u001b[1m860/860\u001b[0m \u001b[32m━━━━━━━━━━━━━━━━━━━━\u001b[0m\u001b[37m\u001b[0m \u001b[1m8s\u001b[0m 9ms/step - accuracy: 0.8855 - loss: 0.3174 - val_accuracy: 0.8682 - val_loss: 0.3405\n",
      "Epoch 5/20\n",
      "\u001b[1m860/860\u001b[0m \u001b[32m━━━━━━━━━━━━━━━━━━━━\u001b[0m\u001b[37m\u001b[0m \u001b[1m8s\u001b[0m 9ms/step - accuracy: 0.8885 - loss: 0.3109 - val_accuracy: 0.9008 - val_loss: 0.2820\n",
      "Epoch 6/20\n",
      "\u001b[1m860/860\u001b[0m \u001b[32m━━━━━━━━━━━━━━━━━━━━\u001b[0m\u001b[37m\u001b[0m \u001b[1m8s\u001b[0m 9ms/step - accuracy: 0.8945 - loss: 0.2880 - val_accuracy: 0.8756 - val_loss: 0.3262\n",
      "Epoch 7/20\n",
      "\u001b[1m860/860\u001b[0m \u001b[32m━━━━━━━━━━━━━━━━━━━━\u001b[0m\u001b[37m\u001b[0m \u001b[1m7s\u001b[0m 9ms/step - accuracy: 0.9010 - loss: 0.2714 - val_accuracy: 0.9054 - val_loss: 0.2630\n",
      "Epoch 8/20\n",
      "\u001b[1m860/860\u001b[0m \u001b[32m━━━━━━━━━━━━━━━━━━━━\u001b[0m\u001b[37m\u001b[0m \u001b[1m7s\u001b[0m 9ms/step - accuracy: 0.9066 - loss: 0.2569 - val_accuracy: 0.9188 - val_loss: 0.2214\n",
      "Epoch 9/20\n",
      "\u001b[1m860/860\u001b[0m \u001b[32m━━━━━━━━━━━━━━━━━━━━\u001b[0m\u001b[37m\u001b[0m \u001b[1m7s\u001b[0m 9ms/step - accuracy: 0.9068 - loss: 0.2543 - val_accuracy: 0.9034 - val_loss: 0.2552\n",
      "Epoch 10/20\n",
      "\u001b[1m860/860\u001b[0m \u001b[32m━━━━━━━━━━━━━━━━━━━━\u001b[0m\u001b[37m\u001b[0m \u001b[1m7s\u001b[0m 9ms/step - accuracy: 0.9114 - loss: 0.2382 - val_accuracy: 0.8980 - val_loss: 0.2859\n",
      "Epoch 11/20\n",
      "\u001b[1m860/860\u001b[0m \u001b[32m━━━━━━━━━━━━━━━━━━━━\u001b[0m\u001b[37m\u001b[0m \u001b[1m7s\u001b[0m 9ms/step - accuracy: 0.9127 - loss: 0.2385 - val_accuracy: 0.8784 - val_loss: 0.3255\n",
      "Epoch 12/20\n",
      "\u001b[1m860/860\u001b[0m \u001b[32m━━━━━━━━━━━━━━━━━━━━\u001b[0m\u001b[37m\u001b[0m \u001b[1m8s\u001b[0m 9ms/step - accuracy: 0.9183 - loss: 0.2213 - val_accuracy: 0.9124 - val_loss: 0.2395\n",
      "Epoch 13/20\n",
      "\u001b[1m860/860\u001b[0m \u001b[32m━━━━━━━━━━━━━━━━━━━━\u001b[0m\u001b[37m\u001b[0m \u001b[1m8s\u001b[0m 9ms/step - accuracy: 0.9189 - loss: 0.2218 - val_accuracy: 0.9142 - val_loss: 0.2326\n",
      "Epoch 14/20\n",
      "\u001b[1m860/860\u001b[0m \u001b[32m━━━━━━━━━━━━━━━━━━━━\u001b[0m\u001b[37m\u001b[0m \u001b[1m8s\u001b[0m 9ms/step - accuracy: 0.9204 - loss: 0.2192 - val_accuracy: 0.9076 - val_loss: 0.2561\n",
      "Epoch 15/20\n",
      "\u001b[1m860/860\u001b[0m \u001b[32m━━━━━━━━━━━━━━━━━━━━\u001b[0m\u001b[37m\u001b[0m \u001b[1m8s\u001b[0m 9ms/step - accuracy: 0.9230 - loss: 0.2100 - val_accuracy: 0.9030 - val_loss: 0.2692\n",
      "Epoch 16/20\n",
      "\u001b[1m860/860\u001b[0m \u001b[32m━━━━━━━━━━━━━━━━━━━━\u001b[0m\u001b[37m\u001b[0m \u001b[1m7s\u001b[0m 9ms/step - accuracy: 0.9238 - loss: 0.2062 - val_accuracy: 0.9056 - val_loss: 0.2636\n",
      "Epoch 17/20\n",
      "\u001b[1m860/860\u001b[0m \u001b[32m━━━━━━━━━━━━━━━━━━━━\u001b[0m\u001b[37m\u001b[0m \u001b[1m8s\u001b[0m 9ms/step - accuracy: 0.9264 - loss: 0.2016 - val_accuracy: 0.9168 - val_loss: 0.2214\n",
      "Epoch 18/20\n",
      "\u001b[1m860/860\u001b[0m \u001b[32m━━━━━━━━━━━━━━━━━━━━\u001b[0m\u001b[37m\u001b[0m \u001b[1m8s\u001b[0m 9ms/step - accuracy: 0.9279 - loss: 0.1956 - val_accuracy: 0.8960 - val_loss: 0.2857\n",
      "Epoch 19/20\n",
      "\u001b[1m860/860\u001b[0m \u001b[32m━━━━━━━━━━━━━━━━━━━━\u001b[0m\u001b[37m\u001b[0m \u001b[1m7s\u001b[0m 9ms/step - accuracy: 0.9298 - loss: 0.1933 - val_accuracy: 0.9172 - val_loss: 0.2380\n",
      "Epoch 20/20\n",
      "\u001b[1m860/860\u001b[0m \u001b[32m━━━━━━━━━━━━━━━━━━━━\u001b[0m\u001b[37m\u001b[0m \u001b[1m8s\u001b[0m 9ms/step - accuracy: 0.9303 - loss: 0.1891 - val_accuracy: 0.9072 - val_loss: 0.2686\n"
     ]
    }
   ],
   "source": [
    "# Training and evaluating the model\n",
    "history = model.fit(\n",
    "    x_train, y_train,\n",
    "    epochs=20,\n",
    "    batch_size=64,\n",
    "    validation_data=(x_valid, y_valid)\n",
    ")"
   ]
  },
  {
   "cell_type": "code",
   "execution_count": 316,
   "metadata": {},
   "outputs": [
    {
     "data": {
      "image/png": "[encoded data removed]",
      "text/plain": [
       "<Figure size 800x500 with 1 Axes>"
      ]
     },
     "metadata": {},
     "output_type": "display_data"
    }
   ],
   "source": [
    "pd.DataFrame(history.history).plot(figsize=(8, 5))\n",
    "plt.grid(True)\n",
    "plt.gca().set_ylim(0, 1)\n",
    "plt.show()"
   ]
  },
  {
   "cell_type": "code",
   "execution_count": 317,
   "metadata": {},
   "outputs": [
    {
     "name": "stdout",
     "output_type": "stream",
     "text": [
      "\u001b[1m313/313\u001b[0m \u001b[32m━━━━━━━━━━━━━━━━━━━━\u001b[0m\u001b[37m\u001b[0m \u001b[1m1s\u001b[0m 2ms/step - accuracy: 0.9021 - loss: 0.2798\n",
      "\u001b[1m1/1\u001b[0m \u001b[32m━━━━━━━━━━━━━━━━━━━━\u001b[0m\u001b[37m\u001b[0m \u001b[1m0s\u001b[0m 53ms/step\n",
      "[9 2 1]\n",
      "['Ankle boot' 'Pullover' 'Trouser']\n",
      "[9 2 1]\n",
      "['Ankle boot' 'Pullover' 'Trouser']\n"
     ]
    },
    {
     "data": {
      "image/png": "[encoded data removed]",
      "text/plain": [
       "<Figure size 720x240 with 3 Axes>"
      ]
     },
     "metadata": {},
     "output_type": "display_data"
    }
   ],
   "source": [
    "model.evaluate(x_test / 255.0, y_test)\n",
    "\n",
    "# Predict the class of the first 3 test images\n",
    "y_pred = model.predict(x_test[:3] / 255.0)\n",
    "\n",
    "# Print the predicted class for the first 3 test images\n",
    "print(np.argmax(y_pred, axis=1))\n",
    "# Print the predicted class name\n",
    "print(np.array(class_names)[np.argmax(y_pred, axis=1)])\n",
    "\n",
    "# Print the actual class for the first 3 test images\n",
    "print(y_test[:3])\n",
    "# Print the actual class name\n",
    "print(np.array(class_names)[y_test[:3]])\n",
    "\n",
    "# Print the images of the first 3 test images\n",
    "plt.figure(figsize=(7.2, 2.4))\n",
    "for index, image in enumerate(x_test[:3]):\n",
    "    plt.subplot(1, 3, index + 1)\n",
    "    plt.imshow(image, cmap='binary', interpolation='nearest')\n",
    "    plt.axis('off')\n",
    "    plt.title(class_names[y_test[index]], fontsize=12)\n",
    "plt.show()"
   ]
  }
 ],
 "metadata": {
  "kernelspec": {
   "display_name": ".venv",
   "language": "python",
   "name": "python3"
  },
  "language_info": {
   "codemirror_mode": {
    "name": "ipython",
    "version": 3
   },
   "file_extension": ".py",
   "mimetype": "text/x-python",
   "name": "python",
   "nbconvert_exporter": "python",
   "pygments_lexer": "ipython3",
   "version": "3.12.6"
  }
 },
 "nbformat": 4,
 "nbformat_minor": 2
}
