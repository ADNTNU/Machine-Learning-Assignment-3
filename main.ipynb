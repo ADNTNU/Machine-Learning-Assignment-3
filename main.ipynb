{
 "cells": [
  {
   "cell_type": "code",
   "execution_count": 335,
   "metadata": {},
   "outputs": [],
   "source": [
    "# Import the necessary libraries\n",
    "from tensorflow.keras.datasets import fashion_mnist\n",
    "from tensorflow.keras.models import Sequential\n",
    "from tensorflow.keras.layers import Dense, Flatten, Dropout, MaxPooling2D, Conv2D, ReLU, BatchNormalization, GlobalAveragePooling2D, Input \n",
    "\n",
    "\n",
    "from tensorflow.keras.optimizers import Adam, SGD\n",
    "\n",
    "import numpy as np\n",
    "import matplotlib.pyplot as plt\n",
    "import pandas as pd"
   ]
  },
  {
   "cell_type": "code",
   "execution_count": 336,
   "metadata": {},
   "outputs": [],
   "source": [
    "# Load the data\n",
    "(x_train_full, y_train_full), (x_test, y_test) = fashion_mnist.load_data()"
   ]
  },
  {
   "cell_type": "code",
   "execution_count": 337,
   "metadata": {},
   "outputs": [],
   "source": [
    "# Split and normalize the data\n",
    "# Dividing by 255.0 normalizes the data to the range [0, 1]\n",
    "x_valid, x_train = x_train_full[:5000] / 255.0, x_train_full[5000:] / 255.0\n",
    "y_valid, y_train = y_train_full[:5000], y_train_full[5000:]\n",
    "\n",
    "# Define the classes\n",
    "class_names = [\"T-shirt/top\", \"Trouser\", \"Pullover\", \"Dress\", \"Coat\",\n",
    "               \"Sandal\", \"Shirt\", \"Sneaker\", \"Bag\", \"Ankle boot\"]"
   ]
  },
  {
   "cell_type": "code",
   "execution_count": 338,
   "metadata": {},
   "outputs": [],
   "source": [
    "# Define the neural network model\n",
    "# model = Sequential([\n",
    "#     # Flatten the 28x28 Images into a 1D array\n",
    "#     Flatten(input_shape=(28, 28)),\n",
    "#     # Adds a dense hidden layer with 128 neurons and relu activation\n",
    "#     # Dense(128, activation='relu'),\n",
    "#     Dense(128, activation='relu'),\n",
    "#     # Adds a dense hidden layer with 64 neurons and relu activation\n",
    "#     Dense(64, activation='relu'),\n",
    "#     # Add a dropout layer with 0.2 dropout rate\n",
    "#     Dropout(0.2),\n",
    "#     # Adds a dense output layer with 10 neurons and softmax activation\n",
    "#     Dense(10, activation='softmax')\n",
    "# ])\n",
    "\n",
    "model = Sequential([\n",
    "    # Define the input shape\n",
    "    Input(shape=(28, 28, 1)),\n",
    "\n",
    "    # First convolutional layer\n",
    "    Conv2D(32, (3, 3), activation='relu'),\n",
    "    BatchNormalization(),\n",
    "    MaxPooling2D((2, 2)),\n",
    "    Dropout(0.2),\n",
    "    \n",
    "    # Second convolutional layer\n",
    "    Conv2D(128, (3, 3), activation='relu'),\n",
    "    BatchNormalization(),\n",
    "    MaxPooling2D((2, 2)),\n",
    "    Dropout(0.2),\n",
    "    \n",
    "    # Third convolutional layer\n",
    "    Conv2D(256, (3, 3), activation='relu'),\n",
    "    BatchNormalization(),\n",
    "\n",
    "    \n",
    "    # Flatten(),\n",
    "    GlobalAveragePooling2D(),\n",
    "    Dense(128, activation='relu'),\n",
    "    Dropout(0.5),\n",
    "    Dense(10, activation='softmax')\n",
    "])\n"
   ]
  },
  {
   "cell_type": "code",
   "execution_count": 339,
   "metadata": {},
   "outputs": [
    {
     "data": {
      "text/html": [
       "<pre style=\"white-space:pre;overflow-x:auto;line-height:normal;font-family:Menlo,'DejaVu Sans Mono',consolas,'Courier New',monospace\"><span style=\"font-weight: bold\">Model: \"sequential_40\"</span>\n",
       "</pre>\n"
      ],
      "text/plain": [
       "\u001b[1mModel: \"sequential_40\"\u001b[0m\n"
      ]
     },
     "metadata": {},
     "output_type": "display_data"
    },
    {
     "data": {
      "text/html": [
       "<pre style=\"white-space:pre;overflow-x:auto;line-height:normal;font-family:Menlo,'DejaVu Sans Mono',consolas,'Courier New',monospace\">┏━━━━━━━━━━━━━━━━━━━━━━━━━━━━━━━━━┳━━━━━━━━━━━━━━━━━━━━━━━━┳━━━━━━━━━━━━━━━┓\n",
       "┃<span style=\"font-weight: bold\"> Layer (type)                    </span>┃<span style=\"font-weight: bold\"> Output Shape           </span>┃<span style=\"font-weight: bold\">       Param # </span>┃\n",
       "┡━━━━━━━━━━━━━━━━━━━━━━━━━━━━━━━━━╇━━━━━━━━━━━━━━━━━━━━━━━━╇━━━━━━━━━━━━━━━┩\n",
       "│ conv2d_100 (<span style=\"color: #0087ff; text-decoration-color: #0087ff\">Conv2D</span>)             │ (<span style=\"color: #00d7ff; text-decoration-color: #00d7ff\">None</span>, <span style=\"color: #00af00; text-decoration-color: #00af00\">26</span>, <span style=\"color: #00af00; text-decoration-color: #00af00\">26</span>, <span style=\"color: #00af00; text-decoration-color: #00af00\">32</span>)     │           <span style=\"color: #00af00; text-decoration-color: #00af00\">320</span> │\n",
       "├─────────────────────────────────┼────────────────────────┼───────────────┤\n",
       "│ batch_normalization_21          │ (<span style=\"color: #00d7ff; text-decoration-color: #00d7ff\">None</span>, <span style=\"color: #00af00; text-decoration-color: #00af00\">26</span>, <span style=\"color: #00af00; text-decoration-color: #00af00\">26</span>, <span style=\"color: #00af00; text-decoration-color: #00af00\">32</span>)     │           <span style=\"color: #00af00; text-decoration-color: #00af00\">128</span> │\n",
       "│ (<span style=\"color: #0087ff; text-decoration-color: #0087ff\">BatchNormalization</span>)            │                        │               │\n",
       "├─────────────────────────────────┼────────────────────────┼───────────────┤\n",
       "│ max_pooling2d_73 (<span style=\"color: #0087ff; text-decoration-color: #0087ff\">MaxPooling2D</span>) │ (<span style=\"color: #00d7ff; text-decoration-color: #00d7ff\">None</span>, <span style=\"color: #00af00; text-decoration-color: #00af00\">13</span>, <span style=\"color: #00af00; text-decoration-color: #00af00\">13</span>, <span style=\"color: #00af00; text-decoration-color: #00af00\">32</span>)     │             <span style=\"color: #00af00; text-decoration-color: #00af00\">0</span> │\n",
       "├─────────────────────────────────┼────────────────────────┼───────────────┤\n",
       "│ dropout_80 (<span style=\"color: #0087ff; text-decoration-color: #0087ff\">Dropout</span>)            │ (<span style=\"color: #00d7ff; text-decoration-color: #00d7ff\">None</span>, <span style=\"color: #00af00; text-decoration-color: #00af00\">13</span>, <span style=\"color: #00af00; text-decoration-color: #00af00\">13</span>, <span style=\"color: #00af00; text-decoration-color: #00af00\">32</span>)     │             <span style=\"color: #00af00; text-decoration-color: #00af00\">0</span> │\n",
       "├─────────────────────────────────┼────────────────────────┼───────────────┤\n",
       "│ conv2d_101 (<span style=\"color: #0087ff; text-decoration-color: #0087ff\">Conv2D</span>)             │ (<span style=\"color: #00d7ff; text-decoration-color: #00d7ff\">None</span>, <span style=\"color: #00af00; text-decoration-color: #00af00\">11</span>, <span style=\"color: #00af00; text-decoration-color: #00af00\">11</span>, <span style=\"color: #00af00; text-decoration-color: #00af00\">128</span>)    │        <span style=\"color: #00af00; text-decoration-color: #00af00\">36,992</span> │\n",
       "├─────────────────────────────────┼────────────────────────┼───────────────┤\n",
       "│ batch_normalization_22          │ (<span style=\"color: #00d7ff; text-decoration-color: #00d7ff\">None</span>, <span style=\"color: #00af00; text-decoration-color: #00af00\">11</span>, <span style=\"color: #00af00; text-decoration-color: #00af00\">11</span>, <span style=\"color: #00af00; text-decoration-color: #00af00\">128</span>)    │           <span style=\"color: #00af00; text-decoration-color: #00af00\">512</span> │\n",
       "│ (<span style=\"color: #0087ff; text-decoration-color: #0087ff\">BatchNormalization</span>)            │                        │               │\n",
       "├─────────────────────────────────┼────────────────────────┼───────────────┤\n",
       "│ max_pooling2d_74 (<span style=\"color: #0087ff; text-decoration-color: #0087ff\">MaxPooling2D</span>) │ (<span style=\"color: #00d7ff; text-decoration-color: #00d7ff\">None</span>, <span style=\"color: #00af00; text-decoration-color: #00af00\">5</span>, <span style=\"color: #00af00; text-decoration-color: #00af00\">5</span>, <span style=\"color: #00af00; text-decoration-color: #00af00\">128</span>)      │             <span style=\"color: #00af00; text-decoration-color: #00af00\">0</span> │\n",
       "├─────────────────────────────────┼────────────────────────┼───────────────┤\n",
       "│ dropout_81 (<span style=\"color: #0087ff; text-decoration-color: #0087ff\">Dropout</span>)            │ (<span style=\"color: #00d7ff; text-decoration-color: #00d7ff\">None</span>, <span style=\"color: #00af00; text-decoration-color: #00af00\">5</span>, <span style=\"color: #00af00; text-decoration-color: #00af00\">5</span>, <span style=\"color: #00af00; text-decoration-color: #00af00\">128</span>)      │             <span style=\"color: #00af00; text-decoration-color: #00af00\">0</span> │\n",
       "├─────────────────────────────────┼────────────────────────┼───────────────┤\n",
       "│ conv2d_102 (<span style=\"color: #0087ff; text-decoration-color: #0087ff\">Conv2D</span>)             │ (<span style=\"color: #00d7ff; text-decoration-color: #00d7ff\">None</span>, <span style=\"color: #00af00; text-decoration-color: #00af00\">3</span>, <span style=\"color: #00af00; text-decoration-color: #00af00\">3</span>, <span style=\"color: #00af00; text-decoration-color: #00af00\">256</span>)      │       <span style=\"color: #00af00; text-decoration-color: #00af00\">295,168</span> │\n",
       "├─────────────────────────────────┼────────────────────────┼───────────────┤\n",
       "│ batch_normalization_23          │ (<span style=\"color: #00d7ff; text-decoration-color: #00d7ff\">None</span>, <span style=\"color: #00af00; text-decoration-color: #00af00\">3</span>, <span style=\"color: #00af00; text-decoration-color: #00af00\">3</span>, <span style=\"color: #00af00; text-decoration-color: #00af00\">256</span>)      │         <span style=\"color: #00af00; text-decoration-color: #00af00\">1,024</span> │\n",
       "│ (<span style=\"color: #0087ff; text-decoration-color: #0087ff\">BatchNormalization</span>)            │                        │               │\n",
       "├─────────────────────────────────┼────────────────────────┼───────────────┤\n",
       "│ global_average_pooling2d_5      │ (<span style=\"color: #00d7ff; text-decoration-color: #00d7ff\">None</span>, <span style=\"color: #00af00; text-decoration-color: #00af00\">256</span>)            │             <span style=\"color: #00af00; text-decoration-color: #00af00\">0</span> │\n",
       "│ (<span style=\"color: #0087ff; text-decoration-color: #0087ff\">GlobalAveragePooling2D</span>)        │                        │               │\n",
       "├─────────────────────────────────┼────────────────────────┼───────────────┤\n",
       "│ dense_96 (<span style=\"color: #0087ff; text-decoration-color: #0087ff\">Dense</span>)                │ (<span style=\"color: #00d7ff; text-decoration-color: #00d7ff\">None</span>, <span style=\"color: #00af00; text-decoration-color: #00af00\">128</span>)            │        <span style=\"color: #00af00; text-decoration-color: #00af00\">32,896</span> │\n",
       "├─────────────────────────────────┼────────────────────────┼───────────────┤\n",
       "│ dropout_82 (<span style=\"color: #0087ff; text-decoration-color: #0087ff\">Dropout</span>)            │ (<span style=\"color: #00d7ff; text-decoration-color: #00d7ff\">None</span>, <span style=\"color: #00af00; text-decoration-color: #00af00\">128</span>)            │             <span style=\"color: #00af00; text-decoration-color: #00af00\">0</span> │\n",
       "├─────────────────────────────────┼────────────────────────┼───────────────┤\n",
       "│ dense_97 (<span style=\"color: #0087ff; text-decoration-color: #0087ff\">Dense</span>)                │ (<span style=\"color: #00d7ff; text-decoration-color: #00d7ff\">None</span>, <span style=\"color: #00af00; text-decoration-color: #00af00\">10</span>)             │         <span style=\"color: #00af00; text-decoration-color: #00af00\">1,290</span> │\n",
       "└─────────────────────────────────┴────────────────────────┴───────────────┘\n",
       "</pre>\n"
      ],
      "text/plain": [
       "┏━━━━━━━━━━━━━━━━━━━━━━━━━━━━━━━━━┳━━━━━━━━━━━━━━━━━━━━━━━━┳━━━━━━━━━━━━━━━┓\n",
       "┃\u001b[1m \u001b[0m\u001b[1mLayer (type)                   \u001b[0m\u001b[1m \u001b[0m┃\u001b[1m \u001b[0m\u001b[1mOutput Shape          \u001b[0m\u001b[1m \u001b[0m┃\u001b[1m \u001b[0m\u001b[1m      Param #\u001b[0m\u001b[1m \u001b[0m┃\n",
       "┡━━━━━━━━━━━━━━━━━━━━━━━━━━━━━━━━━╇━━━━━━━━━━━━━━━━━━━━━━━━╇━━━━━━━━━━━━━━━┩\n",
       "│ conv2d_100 (\u001b[38;5;33mConv2D\u001b[0m)             │ (\u001b[38;5;45mNone\u001b[0m, \u001b[38;5;34m26\u001b[0m, \u001b[38;5;34m26\u001b[0m, \u001b[38;5;34m32\u001b[0m)     │           \u001b[38;5;34m320\u001b[0m │\n",
       "├─────────────────────────────────┼────────────────────────┼───────────────┤\n",
       "│ batch_normalization_21          │ (\u001b[38;5;45mNone\u001b[0m, \u001b[38;5;34m26\u001b[0m, \u001b[38;5;34m26\u001b[0m, \u001b[38;5;34m32\u001b[0m)     │           \u001b[38;5;34m128\u001b[0m │\n",
       "│ (\u001b[38;5;33mBatchNormalization\u001b[0m)            │                        │               │\n",
       "├─────────────────────────────────┼────────────────────────┼───────────────┤\n",
       "│ max_pooling2d_73 (\u001b[38;5;33mMaxPooling2D\u001b[0m) │ (\u001b[38;5;45mNone\u001b[0m, \u001b[38;5;34m13\u001b[0m, \u001b[38;5;34m13\u001b[0m, \u001b[38;5;34m32\u001b[0m)     │             \u001b[38;5;34m0\u001b[0m │\n",
       "├─────────────────────────────────┼────────────────────────┼───────────────┤\n",
       "│ dropout_80 (\u001b[38;5;33mDropout\u001b[0m)            │ (\u001b[38;5;45mNone\u001b[0m, \u001b[38;5;34m13\u001b[0m, \u001b[38;5;34m13\u001b[0m, \u001b[38;5;34m32\u001b[0m)     │             \u001b[38;5;34m0\u001b[0m │\n",
       "├─────────────────────────────────┼────────────────────────┼───────────────┤\n",
       "│ conv2d_101 (\u001b[38;5;33mConv2D\u001b[0m)             │ (\u001b[38;5;45mNone\u001b[0m, \u001b[38;5;34m11\u001b[0m, \u001b[38;5;34m11\u001b[0m, \u001b[38;5;34m128\u001b[0m)    │        \u001b[38;5;34m36,992\u001b[0m │\n",
       "├─────────────────────────────────┼────────────────────────┼───────────────┤\n",
       "│ batch_normalization_22          │ (\u001b[38;5;45mNone\u001b[0m, \u001b[38;5;34m11\u001b[0m, \u001b[38;5;34m11\u001b[0m, \u001b[38;5;34m128\u001b[0m)    │           \u001b[38;5;34m512\u001b[0m │\n",
       "│ (\u001b[38;5;33mBatchNormalization\u001b[0m)            │                        │               │\n",
       "├─────────────────────────────────┼────────────────────────┼───────────────┤\n",
       "│ max_pooling2d_74 (\u001b[38;5;33mMaxPooling2D\u001b[0m) │ (\u001b[38;5;45mNone\u001b[0m, \u001b[38;5;34m5\u001b[0m, \u001b[38;5;34m5\u001b[0m, \u001b[38;5;34m128\u001b[0m)      │             \u001b[38;5;34m0\u001b[0m │\n",
       "├─────────────────────────────────┼────────────────────────┼───────────────┤\n",
       "│ dropout_81 (\u001b[38;5;33mDropout\u001b[0m)            │ (\u001b[38;5;45mNone\u001b[0m, \u001b[38;5;34m5\u001b[0m, \u001b[38;5;34m5\u001b[0m, \u001b[38;5;34m128\u001b[0m)      │             \u001b[38;5;34m0\u001b[0m │\n",
       "├─────────────────────────────────┼────────────────────────┼───────────────┤\n",
       "│ conv2d_102 (\u001b[38;5;33mConv2D\u001b[0m)             │ (\u001b[38;5;45mNone\u001b[0m, \u001b[38;5;34m3\u001b[0m, \u001b[38;5;34m3\u001b[0m, \u001b[38;5;34m256\u001b[0m)      │       \u001b[38;5;34m295,168\u001b[0m │\n",
       "├─────────────────────────────────┼────────────────────────┼───────────────┤\n",
       "│ batch_normalization_23          │ (\u001b[38;5;45mNone\u001b[0m, \u001b[38;5;34m3\u001b[0m, \u001b[38;5;34m3\u001b[0m, \u001b[38;5;34m256\u001b[0m)      │         \u001b[38;5;34m1,024\u001b[0m │\n",
       "│ (\u001b[38;5;33mBatchNormalization\u001b[0m)            │                        │               │\n",
       "├─────────────────────────────────┼────────────────────────┼───────────────┤\n",
       "│ global_average_pooling2d_5      │ (\u001b[38;5;45mNone\u001b[0m, \u001b[38;5;34m256\u001b[0m)            │             \u001b[38;5;34m0\u001b[0m │\n",
       "│ (\u001b[38;5;33mGlobalAveragePooling2D\u001b[0m)        │                        │               │\n",
       "├─────────────────────────────────┼────────────────────────┼───────────────┤\n",
       "│ dense_96 (\u001b[38;5;33mDense\u001b[0m)                │ (\u001b[38;5;45mNone\u001b[0m, \u001b[38;5;34m128\u001b[0m)            │        \u001b[38;5;34m32,896\u001b[0m │\n",
       "├─────────────────────────────────┼────────────────────────┼───────────────┤\n",
       "│ dropout_82 (\u001b[38;5;33mDropout\u001b[0m)            │ (\u001b[38;5;45mNone\u001b[0m, \u001b[38;5;34m128\u001b[0m)            │             \u001b[38;5;34m0\u001b[0m │\n",
       "├─────────────────────────────────┼────────────────────────┼───────────────┤\n",
       "│ dense_97 (\u001b[38;5;33mDense\u001b[0m)                │ (\u001b[38;5;45mNone\u001b[0m, \u001b[38;5;34m10\u001b[0m)             │         \u001b[38;5;34m1,290\u001b[0m │\n",
       "└─────────────────────────────────┴────────────────────────┴───────────────┘\n"
      ]
     },
     "metadata": {},
     "output_type": "display_data"
    },
    {
     "data": {
      "text/html": [
       "<pre style=\"white-space:pre;overflow-x:auto;line-height:normal;font-family:Menlo,'DejaVu Sans Mono',consolas,'Courier New',monospace\"><span style=\"font-weight: bold\"> Total params: </span><span style=\"color: #00af00; text-decoration-color: #00af00\">368,330</span> (1.41 MB)\n",
       "</pre>\n"
      ],
      "text/plain": [
       "\u001b[1m Total params: \u001b[0m\u001b[38;5;34m368,330\u001b[0m (1.41 MB)\n"
      ]
     },
     "metadata": {},
     "output_type": "display_data"
    },
    {
     "data": {
      "text/html": [
       "<pre style=\"white-space:pre;overflow-x:auto;line-height:normal;font-family:Menlo,'DejaVu Sans Mono',consolas,'Courier New',monospace\"><span style=\"font-weight: bold\"> Trainable params: </span><span style=\"color: #00af00; text-decoration-color: #00af00\">367,498</span> (1.40 MB)\n",
       "</pre>\n"
      ],
      "text/plain": [
       "\u001b[1m Trainable params: \u001b[0m\u001b[38;5;34m367,498\u001b[0m (1.40 MB)\n"
      ]
     },
     "metadata": {},
     "output_type": "display_data"
    },
    {
     "data": {
      "text/html": [
       "<pre style=\"white-space:pre;overflow-x:auto;line-height:normal;font-family:Menlo,'DejaVu Sans Mono',consolas,'Courier New',monospace\"><span style=\"font-weight: bold\"> Non-trainable params: </span><span style=\"color: #00af00; text-decoration-color: #00af00\">832</span> (3.25 KB)\n",
       "</pre>\n"
      ],
      "text/plain": [
       "\u001b[1m Non-trainable params: \u001b[0m\u001b[38;5;34m832\u001b[0m (3.25 KB)\n"
      ]
     },
     "metadata": {},
     "output_type": "display_data"
    },
    {
     "name": "stdout",
     "output_type": "stream",
     "text": [
      "Weights: [[[[-2.35432796e-02  3.93268503e-02 -1.49783995e-02 ...  7.38716125e-03\n",
      "     2.74773873e-02  2.11453550e-02]\n",
      "   [ 2.18182392e-02  1.38116181e-02  1.95154548e-03 ...  1.69963539e-02\n",
      "     1.09642036e-02 -3.13206613e-02]\n",
      "   [ 1.64452493e-02 -2.93196049e-02 -3.85034084e-03 ...  3.86831947e-02\n",
      "    -1.29503310e-02  8.61883163e-04]\n",
      "   ...\n",
      "   [-3.81793380e-02 -4.06504795e-02  4.02276330e-02 ... -3.60930860e-02\n",
      "     2.15065368e-02  2.04442814e-03]\n",
      "   [ 1.74589567e-02  1.06454790e-02 -1.63784530e-02 ... -2.20423341e-02\n",
      "    -3.89503352e-02 -1.97110884e-02]\n",
      "   [-7.52891973e-03  2.68669613e-02 -1.99430399e-02 ... -1.72652602e-02\n",
      "     4.34695557e-03 -2.20395625e-02]]\n",
      "\n",
      "  [[ 1.26002319e-02  3.34058814e-02  2.23932080e-02 ... -9.93179157e-03\n",
      "     1.45132430e-02 -4.64740396e-03]\n",
      "   [-1.76223628e-02 -9.78395343e-03 -3.00358534e-02 ...  1.49358325e-02\n",
      "     3.91672738e-02 -1.13870502e-02]\n",
      "   [-2.66848877e-03 -7.20768049e-03 -1.79178119e-02 ...  1.93427019e-02\n",
      "     1.10447593e-02  1.43146217e-02]\n",
      "   ...\n",
      "   [ 3.85393016e-02  5.59164211e-03  7.91115686e-03 ...  4.02075052e-03\n",
      "     2.23971047e-02  3.15989293e-02]\n",
      "   [ 1.02685019e-03 -9.26267356e-04  3.16801108e-02 ... -2.92586591e-02\n",
      "     3.61578278e-02  8.42715427e-03]\n",
      "   [-1.92096438e-02  2.96097808e-02  3.85657959e-02 ...  1.58046000e-02\n",
      "    -3.22574377e-02 -2.15239525e-02]]\n",
      "\n",
      "  [[ 1.61234550e-02 -3.50126140e-02  2.16555186e-02 ...  1.86662562e-02\n",
      "    -3.49210426e-02 -2.99818516e-02]\n",
      "   [ 6.33173063e-03  1.89810209e-02  2.30201967e-02 ... -1.77887492e-02\n",
      "    -2.88653672e-02 -3.78176570e-02]\n",
      "   [ 2.25094669e-02  2.42028758e-03 -1.27803590e-02 ...  2.49528885e-03\n",
      "    -4.71302867e-03 -6.92889094e-03]\n",
      "   ...\n",
      "   [ 3.91777791e-02 -3.62343602e-02 -3.37984040e-03 ...  7.47295097e-03\n",
      "    -1.96192767e-02  1.07383542e-02]\n",
      "   [ 2.08561532e-02 -3.90003845e-02 -4.15067188e-02 ...  2.29166076e-03\n",
      "    -3.09371259e-02  1.97966211e-02]\n",
      "   [-3.43625061e-02 -3.07828393e-02 -2.15438306e-02 ...  5.95480204e-03\n",
      "     2.59763487e-02 -2.23392062e-02]]]\n",
      "\n",
      "\n",
      " [[[-2.64364593e-02  3.71414758e-02  2.01608613e-03 ... -3.26036289e-03\n",
      "    -2.40288880e-02  2.27310844e-02]\n",
      "   [-2.52689328e-02 -1.07832253e-02  3.51284780e-02 ... -3.28412168e-02\n",
      "    -2.44432986e-02 -3.32305543e-02]\n",
      "   [-1.43328309e-02  2.66581364e-02 -2.97104027e-02 ... -6.33214787e-03\n",
      "    -2.33293474e-02 -2.34282725e-02]\n",
      "   ...\n",
      "   [-1.86242461e-02  1.64566152e-02 -2.89493911e-02 ...  7.15553761e-05\n",
      "     3.47542651e-02  9.52523947e-03]\n",
      "   [ 3.81034948e-02 -3.78355086e-02 -1.17335841e-03 ... -2.90400386e-02\n",
      "    -1.27583649e-02 -2.09884755e-02]\n",
      "   [ 3.65975089e-02  5.89087605e-03 -2.20756233e-02 ... -3.71979885e-02\n",
      "     2.90066414e-02  2.49471143e-03]]\n",
      "\n",
      "  [[ 2.97652818e-02 -1.65312700e-02  3.88197638e-02 ...  2.18285955e-02\n",
      "     3.58203463e-02 -2.05198936e-02]\n",
      "   [ 2.43498720e-02 -4.48843837e-03 -2.49835365e-02 ... -2.62644105e-02\n",
      "    -3.73342931e-02  1.95974708e-02]\n",
      "   [-1.74871087e-03  1.81826837e-02  2.29297914e-02 ...  2.43883915e-02\n",
      "     4.05951254e-02 -3.18044126e-02]\n",
      "   ...\n",
      "   [-2.65297107e-02 -3.77013907e-02 -4.05751690e-02 ... -4.02177572e-02\n",
      "     3.13518532e-02  1.88454501e-02]\n",
      "   [ 4.30828333e-03 -1.68024898e-02 -3.18754017e-02 ... -7.39308074e-03\n",
      "    -2.21117735e-02  4.01493125e-02]\n",
      "   [-1.12430453e-02 -2.73362007e-02 -9.48131084e-03 ...  1.19219907e-02\n",
      "    -2.74861269e-02 -3.85596752e-02]]\n",
      "\n",
      "  [[ 1.50108635e-02  1.72020495e-02 -2.54907012e-02 ... -3.14989686e-02\n",
      "    -1.61505342e-02  1.36489682e-02]\n",
      "   [ 1.73649378e-02 -3.73021588e-02 -2.13033259e-02 ...  2.99239643e-02\n",
      "    -1.86097231e-02  3.54397707e-02]\n",
      "   [ 2.03164704e-02 -4.06497717e-03  1.12591684e-02 ...  2.29520835e-02\n",
      "    -3.08369808e-02 -3.09406519e-02]\n",
      "   ...\n",
      "   [ 3.36841457e-02  3.99310701e-02 -2.44656708e-02 ... -3.27072665e-03\n",
      "     2.79934518e-02 -5.13453037e-04]\n",
      "   [ 2.41754688e-02 -7.29836896e-03 -2.95628421e-02 ...  3.67291756e-02\n",
      "     2.12532468e-02  1.21737607e-02]\n",
      "   [ 5.83726913e-04  3.38938423e-02 -2.33352687e-02 ...  2.21398473e-03\n",
      "    -3.35379839e-02  2.63563506e-02]]]\n",
      "\n",
      "\n",
      " [[[-3.13627422e-02  3.18032913e-02 -1.07693486e-02 ...  2.55933218e-02\n",
      "    -2.34723687e-02  1.47766769e-02]\n",
      "   [ 3.18169184e-02 -3.65160219e-02  3.86407487e-02 ...  1.39839537e-02\n",
      "     7.26671144e-03  1.20203979e-02]\n",
      "   [-3.35952751e-02  8.26460123e-03 -9.17553902e-04 ...  2.95390971e-02\n",
      "    -1.15774870e-02 -3.48279476e-02]\n",
      "   ...\n",
      "   [ 3.93023528e-02 -2.89260261e-02 -3.55267823e-02 ...  4.04925980e-02\n",
      "     2.78326757e-02 -1.62539892e-02]\n",
      "   [-3.98850441e-03  6.97547197e-03  3.16018350e-02 ... -1.91178918e-03\n",
      "     2.66093351e-02 -1.63570642e-02]\n",
      "   [-2.29689591e-02  3.51207592e-02 -3.89858298e-02 ... -1.04495883e-03\n",
      "    -8.36389139e-03  1.60853267e-02]]\n",
      "\n",
      "  [[-3.32973115e-02  6.95567206e-03  9.67540219e-03 ...  3.20404656e-02\n",
      "     2.09512748e-02  7.19900057e-03]\n",
      "   [-1.44917518e-04  2.48409398e-02 -1.80348158e-02 ...  3.82539220e-02\n",
      "     2.78996117e-02 -3.64600234e-02]\n",
      "   [ 1.36879198e-02 -4.01656330e-02  4.09129448e-02 ...  9.53469798e-03\n",
      "    -1.20019224e-02 -2.87613571e-02]\n",
      "   ...\n",
      "   [-1.97022166e-02 -2.24937201e-02 -3.14920358e-02 ... -1.73993111e-02\n",
      "     2.36463547e-03  3.26327570e-02]\n",
      "   [-2.83972137e-02  3.87929790e-02 -1.55943446e-02 ...  3.06578763e-02\n",
      "    -1.90648939e-02  1.32574253e-02]\n",
      "   [ 5.82702830e-03  3.78125943e-02 -3.14952061e-02 ... -4.01706621e-02\n",
      "     8.83266330e-03 -4.02160510e-02]]\n",
      "\n",
      "  [[ 3.05206068e-02  2.31465809e-02 -2.05212738e-02 ...  8.64864513e-03\n",
      "    -3.64465825e-02 -1.15765743e-02]\n",
      "   [-1.46704614e-02 -1.37320757e-02  3.67160477e-02 ... -2.87417769e-02\n",
      "    -1.83250383e-03  1.91246681e-02]\n",
      "   [ 2.91479565e-02  4.09372039e-02  3.74410935e-02 ... -2.13842504e-02\n",
      "     2.61621065e-02 -7.73398951e-03]\n",
      "   ...\n",
      "   [ 3.29487510e-02  1.66712403e-02  2.98852064e-02 ...  4.75694612e-03\n",
      "    -2.09413469e-02  1.97659805e-03]\n",
      "   [ 2.71332972e-02 -9.78712365e-03 -2.45074145e-02 ...  3.69894989e-02\n",
      "     1.42375827e-02  3.62904109e-02]\n",
      "   [-1.61159635e-02  1.41646862e-02 -2.13380661e-02 ... -1.26898196e-02\n",
      "     2.75124125e-02 -2.29503624e-02]]]]\n",
      "Weights shape: (3, 3, 128, 256)\n",
      "Biases: [0. 0. 0. 0. 0. 0. 0. 0. 0. 0. 0. 0. 0. 0. 0. 0. 0. 0. 0. 0. 0. 0. 0. 0.\n",
      " 0. 0. 0. 0. 0. 0. 0. 0. 0. 0. 0. 0. 0. 0. 0. 0. 0. 0. 0. 0. 0. 0. 0. 0.\n",
      " 0. 0. 0. 0. 0. 0. 0. 0. 0. 0. 0. 0. 0. 0. 0. 0. 0. 0. 0. 0. 0. 0. 0. 0.\n",
      " 0. 0. 0. 0. 0. 0. 0. 0. 0. 0. 0. 0. 0. 0. 0. 0. 0. 0. 0. 0. 0. 0. 0. 0.\n",
      " 0. 0. 0. 0. 0. 0. 0. 0. 0. 0. 0. 0. 0. 0. 0. 0. 0. 0. 0. 0. 0. 0. 0. 0.\n",
      " 0. 0. 0. 0. 0. 0. 0. 0. 0. 0. 0. 0. 0. 0. 0. 0. 0. 0. 0. 0. 0. 0. 0. 0.\n",
      " 0. 0. 0. 0. 0. 0. 0. 0. 0. 0. 0. 0. 0. 0. 0. 0. 0. 0. 0. 0. 0. 0. 0. 0.\n",
      " 0. 0. 0. 0. 0. 0. 0. 0. 0. 0. 0. 0. 0. 0. 0. 0. 0. 0. 0. 0. 0. 0. 0. 0.\n",
      " 0. 0. 0. 0. 0. 0. 0. 0. 0. 0. 0. 0. 0. 0. 0. 0. 0. 0. 0. 0. 0. 0. 0. 0.\n",
      " 0. 0. 0. 0. 0. 0. 0. 0. 0. 0. 0. 0. 0. 0. 0. 0. 0. 0. 0. 0. 0. 0. 0. 0.\n",
      " 0. 0. 0. 0. 0. 0. 0. 0. 0. 0. 0. 0. 0. 0. 0. 0.]\n",
      "Biases shape: (256,)\n"
     ]
    }
   ],
   "source": [
    "# Info about the model\n",
    "model.summary()\n",
    "\n",
    "# Show the weights and biases of the first hidden layer\n",
    "weights, biases = model.layers[8].get_weights()\n",
    "\n",
    "print(f\"Weights: {weights}\")\n",
    "\n",
    "print(f\"Weights shape: {weights.shape}\")\n",
    "\n",
    "print(f\"Biases: {biases}\")\n",
    "\n",
    "print(f\"Biases shape: {biases.shape}\")\n"
   ]
  },
  {
   "cell_type": "code",
   "execution_count": 340,
   "metadata": {},
   "outputs": [],
   "source": [
    "# Compile the model\n",
    "model.compile(\n",
    "    # Use the categorical crossentropy loss function\n",
    "    # loss='categorical_crossentropy',\n",
    "    # Use the sparse categorical crossentropy loss function\n",
    "    loss='sparse_categorical_crossentropy',\n",
    "    # Use the sgd optimizer\n",
    "    # optimizer='sgd',\n",
    "    # Use the adam optimizer\n",
    "    # optimizer='adam',\n",
    "    optimizer=SGD(learning_rate=0.1),\n",
    "    # Use accuracy as the performance metric\n",
    "    metrics=['accuracy']\n",
    ")"
   ]
  },
  {
   "cell_type": "code",
   "execution_count": null,
   "metadata": {},
   "outputs": [
    {
     "name": "stdout",
     "output_type": "stream",
     "text": [
      "Epoch 1/20\n",
      "\u001b[1m860/860\u001b[0m \u001b[32m━━━━━━━━━━━━━━━━━━━━\u001b[0m\u001b[37m\u001b[0m \u001b[1m8s\u001b[0m 9ms/step - accuracy: 0.7292 - loss: 0.7457 - val_accuracy: 0.8320 - val_loss: 0.4733\n",
      "Epoch 2/20\n",
      "\u001b[1m860/860\u001b[0m \u001b[32m━━━━━━━━━━━━━━━━━━━━\u001b[0m\u001b[37m\u001b[0m \u001b[1m8s\u001b[0m 9ms/step - accuracy: 0.8512 - loss: 0.4143 - val_accuracy: 0.8590 - val_loss: 0.3747\n",
      "Epoch 3/20\n",
      "\u001b[1m860/860\u001b[0m \u001b[32m━━━━━━━━━━━━━━━━━━━━\u001b[0m\u001b[37m\u001b[0m \u001b[1m7s\u001b[0m 9ms/step - accuracy: 0.8721 - loss: 0.3557 - val_accuracy: 0.8578 - val_loss: 0.4058\n",
      "Epoch 4/20\n",
      "\u001b[1m860/860\u001b[0m \u001b[32m━━━━━━━━━━━━━━━━━━━━\u001b[0m\u001b[37m\u001b[0m \u001b[1m8s\u001b[0m 9ms/step - accuracy: 0.8830 - loss: 0.3261 - val_accuracy: 0.8728 - val_loss: 0.3386\n",
      "Epoch 5/20\n",
      "\u001b[1m860/860\u001b[0m \u001b[32m━━━━━━━━━━━━━━━━━━━━\u001b[0m\u001b[37m\u001b[0m \u001b[1m7s\u001b[0m 9ms/step - accuracy: 0.8917 - loss: 0.3045 - val_accuracy: 0.8998 - val_loss: 0.2614\n",
      "Epoch 6/20\n",
      "\u001b[1m860/860\u001b[0m \u001b[32m━━━━━━━━━━━━━━━━━━━━\u001b[0m\u001b[37m\u001b[0m \u001b[1m7s\u001b[0m 8ms/step - accuracy: 0.8969 - loss: 0.2862 - val_accuracy: 0.8548 - val_loss: 0.4122\n",
      "Epoch 7/20\n",
      "\u001b[1m860/860\u001b[0m \u001b[32m━━━━━━━━━━━━━━━━━━━━\u001b[0m\u001b[37m\u001b[0m \u001b[1m7s\u001b[0m 9ms/step - accuracy: 0.8986 - loss: 0.2781 - val_accuracy: 0.8972 - val_loss: 0.2712\n",
      "Epoch 8/20\n",
      "\u001b[1m860/860\u001b[0m \u001b[32m━━━━━━━━━━━━━━━━━━━━\u001b[0m\u001b[37m\u001b[0m \u001b[1m7s\u001b[0m 9ms/step - accuracy: 0.9041 - loss: 0.2629 - val_accuracy: 0.9144 - val_loss: 0.2342\n",
      "Epoch 9/20\n",
      "\u001b[1m860/860\u001b[0m \u001b[32m━━━━━━━━━━━━━━━━━━━━\u001b[0m\u001b[37m\u001b[0m \u001b[1m7s\u001b[0m 9ms/step - accuracy: 0.9058 - loss: 0.2611 - val_accuracy: 0.9146 - val_loss: 0.2231\n",
      "Epoch 10/20\n",
      "\u001b[1m860/860\u001b[0m \u001b[32m━━━━━━━━━━━━━━━━━━━━\u001b[0m\u001b[37m\u001b[0m \u001b[1m7s\u001b[0m 9ms/step - accuracy: 0.9103 - loss: 0.2464 - val_accuracy: 0.9168 - val_loss: 0.2254\n",
      "Epoch 11/20\n",
      "\u001b[1m860/860\u001b[0m \u001b[32m━━━━━━━━━━━━━━━━━━━━\u001b[0m\u001b[37m\u001b[0m \u001b[1m8s\u001b[0m 9ms/step - accuracy: 0.9140 - loss: 0.2351 - val_accuracy: 0.9098 - val_loss: 0.2519\n",
      "Epoch 12/20\n",
      "\u001b[1m860/860\u001b[0m \u001b[32m━━━━━━━━━━━━━━━━━━━━\u001b[0m\u001b[37m\u001b[0m \u001b[1m8s\u001b[0m 9ms/step - accuracy: 0.9170 - loss: 0.2254 - val_accuracy: 0.8762 - val_loss: 0.3550\n",
      "Epoch 13/20\n",
      "\u001b[1m860/860\u001b[0m \u001b[32m━━━━━━━━━━━━━━━━━━━━\u001b[0m\u001b[37m\u001b[0m \u001b[1m8s\u001b[0m 9ms/step - accuracy: 0.9172 - loss: 0.2262 - val_accuracy: 0.9064 - val_loss: 0.2552\n",
      "Epoch 14/20\n",
      "\u001b[1m860/860\u001b[0m \u001b[32m━━━━━━━━━━━━━━━━━━━━\u001b[0m\u001b[37m\u001b[0m \u001b[1m7s\u001b[0m 9ms/step - accuracy: 0.9200 - loss: 0.2168 - val_accuracy: 0.8642 - val_loss: 0.4032\n",
      "Epoch 15/20\n",
      "\u001b[1m860/860\u001b[0m \u001b[32m━━━━━━━━━━━━━━━━━━━━\u001b[0m\u001b[37m\u001b[0m \u001b[1m8s\u001b[0m 9ms/step - accuracy: 0.9209 - loss: 0.2111 - val_accuracy: 0.8960 - val_loss: 0.3052\n",
      "Epoch 16/20\n",
      "\u001b[1m860/860\u001b[0m \u001b[32m━━━━━━━━━━━━━━━━━━━━\u001b[0m\u001b[37m\u001b[0m \u001b[1m8s\u001b[0m 9ms/step - accuracy: 0.9243 - loss: 0.2052 - val_accuracy: 0.9184 - val_loss: 0.2248\n",
      "Epoch 17/20\n",
      "\u001b[1m860/860\u001b[0m \u001b[32m━━━━━━━━━━━━━━━━━━━━\u001b[0m\u001b[37m\u001b[0m \u001b[1m8s\u001b[0m 9ms/step - accuracy: 0.9270 - loss: 0.2042 - val_accuracy: 0.9212 - val_loss: 0.2257\n",
      "Epoch 18/20\n",
      "\u001b[1m860/860\u001b[0m \u001b[32m━━━━━━━━━━━━━━━━━━━━\u001b[0m\u001b[37m\u001b[0m \u001b[1m8s\u001b[0m 9ms/step - accuracy: 0.9274 - loss: 0.1990 - val_accuracy: 0.8978 - val_loss: 0.2765\n",
      "Epoch 19/20\n",
      "\u001b[1m860/860\u001b[0m \u001b[32m━━━━━━━━━━━━━━━━━━━━\u001b[0m\u001b[37m\u001b[0m \u001b[1m7s\u001b[0m 9ms/step - accuracy: 0.9288 - loss: 0.1887 - val_accuracy: 0.9214 - val_loss: 0.2162\n",
      "Epoch 20/20\n",
      "\u001b[1m860/860\u001b[0m \u001b[32m━━━━━━━━━━━━━━━━━━━━\u001b[0m\u001b[37m\u001b[0m \u001b[1m8s\u001b[0m 9ms/step - accuracy: 0.9292 - loss: 0.1874 - val_accuracy: 0.9200 - val_loss: 0.2190\n"
     ]
    }
   ],
   "source": [
    "# Training and evaluating the model\n",
    "history = model.fit(\n",
    "    x_train, y_train,\n",
    "    epochs=30,\n",
    "    batch_size=64,\n",
    "    validation_data=(x_valid, y_valid)\n",
    ")"
   ]
  },
  {
   "cell_type": "code",
   "execution_count": 342,
   "metadata": {},
   "outputs": [
    {
     "data": {
      "image/png": "[encoded data removed]",
      "text/plain": [
       "<Figure size 800x500 with 1 Axes>"
      ]
     },
     "metadata": {},
     "output_type": "display_data"
    }
   ],
   "source": [
    "pd.DataFrame(history.history).plot(figsize=(8, 5))\n",
    "plt.grid(True)\n",
    "plt.gca().set_ylim(0, 1)\n",
    "plt.show()"
   ]
  },
  {
   "cell_type": "code",
   "execution_count": 343,
   "metadata": {},
   "outputs": [
    {
     "name": "stdout",
     "output_type": "stream",
     "text": [
      "\u001b[1m313/313\u001b[0m \u001b[32m━━━━━━━━━━━━━━━━━━━━\u001b[0m\u001b[37m\u001b[0m \u001b[1m1s\u001b[0m 2ms/step - accuracy: 0.9131 - loss: 0.2506\n",
      "\u001b[1m1/1\u001b[0m \u001b[32m━━━━━━━━━━━━━━━━━━━━\u001b[0m\u001b[37m\u001b[0m \u001b[1m0s\u001b[0m 53ms/step\n",
      "[9 2 1]\n",
      "['Ankle boot' 'Pullover' 'Trouser']\n",
      "[9 2 1]\n",
      "['Ankle boot' 'Pullover' 'Trouser']\n"
     ]
    },
    {
     "data": {
      "image/png": "[encoded data removed]",
      "text/plain": [
       "<Figure size 720x240 with 3 Axes>"
      ]
     },
     "metadata": {},
     "output_type": "display_data"
    }
   ],
   "source": [
    "model.evaluate(x_test / 255.0, y_test)\n",
    "\n",
    "# Predict the class of the first 3 test images\n",
    "y_pred = model.predict(x_test[:3] / 255.0)\n",
    "\n",
    "# Print the predicted class for the first 3 test images\n",
    "print(np.argmax(y_pred, axis=1))\n",
    "# Print the predicted class name\n",
    "print(np.array(class_names)[np.argmax(y_pred, axis=1)])\n",
    "\n",
    "# Print the actual class for the first 3 test images\n",
    "print(y_test[:3])\n",
    "# Print the actual class name\n",
    "print(np.array(class_names)[y_test[:3]])\n",
    "\n",
    "# Print the images of the first 3 test images\n",
    "plt.figure(figsize=(7.2, 2.4))\n",
    "for index, image in enumerate(x_test[:3]):\n",
    "    plt.subplot(1, 3, index + 1)\n",
    "    plt.imshow(image, cmap='binary', interpolation='nearest')\n",
    "    plt.axis('off')\n",
    "    plt.title(class_names[y_test[index]], fontsize=12)\n",
    "plt.show()"
   ]
  }
 ],
 "metadata": {
  "kernelspec": {
   "display_name": ".venv",
   "language": "python",
   "name": "python3"
  },
  "language_info": {
   "codemirror_mode": {
    "name": "ipython",
    "version": 3
   },
   "file_extension": ".py",
   "mimetype": "text/x-python",
   "name": "python",
   "nbconvert_exporter": "python",
   "pygments_lexer": "ipython3",
   "version": "3.12.6"
  }
 },
 "nbformat": 4,
 "nbformat_minor": 2
}
