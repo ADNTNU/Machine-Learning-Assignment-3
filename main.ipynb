{
 "cells": [
  {
   "cell_type": "code",
   "execution_count": 358,
   "metadata": {},
   "outputs": [],
   "source": [
    "# Import the necessary libraries\n",
    "from tensorflow.keras.datasets import fashion_mnist\n",
    "from tensorflow.keras.models import Sequential\n",
    "from tensorflow.keras.layers import Dense, Flatten, Dropout, MaxPooling2D, Conv2D, ReLU, BatchNormalization, GlobalAveragePooling2D, Input \n",
    "\n",
    "\n",
    "from tensorflow.keras.optimizers import Adam, SGD\n",
    "\n",
    "import numpy as np\n",
    "import matplotlib.pyplot as plt\n",
    "import pandas as pd"
   ]
  },
  {
   "cell_type": "code",
   "execution_count": 359,
   "metadata": {},
   "outputs": [],
   "source": [
    "# Load the data\n",
    "(x_train_full, y_train_full), (x_test, y_test) = fashion_mnist.load_data()"
   ]
  },
  {
   "cell_type": "code",
   "execution_count": 360,
   "metadata": {},
   "outputs": [],
   "source": [
    "# Split and normalize the data\n",
    "# Dividing by 255.0 normalizes the data to the range [0, 1]\n",
    "x_valid, x_train = x_train_full[:5000] / 255.0, x_train_full[5000:] / 255.0\n",
    "y_valid, y_train = y_train_full[:5000], y_train_full[5000:]\n",
    "\n",
    "# Define the classes\n",
    "class_names = [\"T-shirt/top\", \"Trouser\", \"Pullover\", \"Dress\", \"Coat\",\n",
    "               \"Sandal\", \"Shirt\", \"Sneaker\", \"Bag\", \"Ankle boot\"]"
   ]
  },
  {
   "cell_type": "code",
   "execution_count": 361,
   "metadata": {},
   "outputs": [],
   "source": [
    "# Define the neural network model\n",
    "# model = Sequential([\n",
    "#     # Flatten the 28x28 Images into a 1D array\n",
    "#     Flatten(input_shape=(28, 28)),\n",
    "#     # Adds a dense hidden layer with 128 neurons and relu activation\n",
    "#     # Dense(128, activation='relu'),\n",
    "#     Dense(128, activation='relu'),\n",
    "#     # Adds a dense hidden layer with 64 neurons and relu activation\n",
    "#     Dense(64, activation='relu'),\n",
    "#     # Add a dropout layer with 0.2 dropout rate\n",
    "#     Dropout(0.2),\n",
    "#     # Adds a dense output layer with 10 neurons and softmax activation\n",
    "#     Dense(10, activation='softmax')\n",
    "# ])\n",
    "\n",
    "model = Sequential([\n",
    "    # Define the input shape\n",
    "    Input(shape=(28, 28, 1)),\n",
    "\n",
    "    # First convolutional layer\n",
    "    Conv2D(32, (3, 3), activation='relu'),\n",
    "    BatchNormalization(),\n",
    "    MaxPooling2D((2, 2)),\n",
    "    Dropout(0.2),\n",
    "    \n",
    "    # Second convolutional layer\n",
    "    Conv2D(128, (3, 3), activation='relu'),\n",
    "    BatchNormalization(),\n",
    "    MaxPooling2D((2, 2)),\n",
    "    Dropout(0.2),\n",
    "    \n",
    "    # Third convolutional layer\n",
    "    Conv2D(256, (3, 3), activation='relu'),\n",
    "    BatchNormalization(),\n",
    "\n",
    "    \n",
    "    # Flatten(),\n",
    "    GlobalAveragePooling2D(),\n",
    "    Dense(128, activation='relu'),\n",
    "    Dropout(0.5),\n",
    "    Dense(10, activation='softmax')\n",
    "])\n"
   ]
  },
  {
   "cell_type": "code",
   "execution_count": 362,
   "metadata": {},
   "outputs": [
    {
     "data": {
      "text/html": [
       "<pre style=\"white-space:pre;overflow-x:auto;line-height:normal;font-family:Menlo,'DejaVu Sans Mono',consolas,'Courier New',monospace\"><span style=\"font-weight: bold\">Model: \"sequential_43\"</span>\n",
       "</pre>\n"
      ],
      "text/plain": [
       "\u001b[1mModel: \"sequential_43\"\u001b[0m\n"
      ]
     },
     "metadata": {},
     "output_type": "display_data"
    },
    {
     "data": {
      "text/html": [
       "<pre style=\"white-space:pre;overflow-x:auto;line-height:normal;font-family:Menlo,'DejaVu Sans Mono',consolas,'Courier New',monospace\">┏━━━━━━━━━━━━━━━━━━━━━━━━━━━━━━━━━┳━━━━━━━━━━━━━━━━━━━━━━━━┳━━━━━━━━━━━━━━━┓\n",
       "┃<span style=\"font-weight: bold\"> Layer (type)                    </span>┃<span style=\"font-weight: bold\"> Output Shape           </span>┃<span style=\"font-weight: bold\">       Param # </span>┃\n",
       "┡━━━━━━━━━━━━━━━━━━━━━━━━━━━━━━━━━╇━━━━━━━━━━━━━━━━━━━━━━━━╇━━━━━━━━━━━━━━━┩\n",
       "│ conv2d_109 (<span style=\"color: #0087ff; text-decoration-color: #0087ff\">Conv2D</span>)             │ (<span style=\"color: #00d7ff; text-decoration-color: #00d7ff\">None</span>, <span style=\"color: #00af00; text-decoration-color: #00af00\">26</span>, <span style=\"color: #00af00; text-decoration-color: #00af00\">26</span>, <span style=\"color: #00af00; text-decoration-color: #00af00\">32</span>)     │           <span style=\"color: #00af00; text-decoration-color: #00af00\">320</span> │\n",
       "├─────────────────────────────────┼────────────────────────┼───────────────┤\n",
       "│ batch_normalization_30          │ (<span style=\"color: #00d7ff; text-decoration-color: #00d7ff\">None</span>, <span style=\"color: #00af00; text-decoration-color: #00af00\">26</span>, <span style=\"color: #00af00; text-decoration-color: #00af00\">26</span>, <span style=\"color: #00af00; text-decoration-color: #00af00\">32</span>)     │           <span style=\"color: #00af00; text-decoration-color: #00af00\">128</span> │\n",
       "│ (<span style=\"color: #0087ff; text-decoration-color: #0087ff\">BatchNormalization</span>)            │                        │               │\n",
       "├─────────────────────────────────┼────────────────────────┼───────────────┤\n",
       "│ max_pooling2d_79 (<span style=\"color: #0087ff; text-decoration-color: #0087ff\">MaxPooling2D</span>) │ (<span style=\"color: #00d7ff; text-decoration-color: #00d7ff\">None</span>, <span style=\"color: #00af00; text-decoration-color: #00af00\">13</span>, <span style=\"color: #00af00; text-decoration-color: #00af00\">13</span>, <span style=\"color: #00af00; text-decoration-color: #00af00\">32</span>)     │             <span style=\"color: #00af00; text-decoration-color: #00af00\">0</span> │\n",
       "├─────────────────────────────────┼────────────────────────┼───────────────┤\n",
       "│ dropout_89 (<span style=\"color: #0087ff; text-decoration-color: #0087ff\">Dropout</span>)            │ (<span style=\"color: #00d7ff; text-decoration-color: #00d7ff\">None</span>, <span style=\"color: #00af00; text-decoration-color: #00af00\">13</span>, <span style=\"color: #00af00; text-decoration-color: #00af00\">13</span>, <span style=\"color: #00af00; text-decoration-color: #00af00\">32</span>)     │             <span style=\"color: #00af00; text-decoration-color: #00af00\">0</span> │\n",
       "├─────────────────────────────────┼────────────────────────┼───────────────┤\n",
       "│ conv2d_110 (<span style=\"color: #0087ff; text-decoration-color: #0087ff\">Conv2D</span>)             │ (<span style=\"color: #00d7ff; text-decoration-color: #00d7ff\">None</span>, <span style=\"color: #00af00; text-decoration-color: #00af00\">11</span>, <span style=\"color: #00af00; text-decoration-color: #00af00\">11</span>, <span style=\"color: #00af00; text-decoration-color: #00af00\">128</span>)    │        <span style=\"color: #00af00; text-decoration-color: #00af00\">36,992</span> │\n",
       "├─────────────────────────────────┼────────────────────────┼───────────────┤\n",
       "│ batch_normalization_31          │ (<span style=\"color: #00d7ff; text-decoration-color: #00d7ff\">None</span>, <span style=\"color: #00af00; text-decoration-color: #00af00\">11</span>, <span style=\"color: #00af00; text-decoration-color: #00af00\">11</span>, <span style=\"color: #00af00; text-decoration-color: #00af00\">128</span>)    │           <span style=\"color: #00af00; text-decoration-color: #00af00\">512</span> │\n",
       "│ (<span style=\"color: #0087ff; text-decoration-color: #0087ff\">BatchNormalization</span>)            │                        │               │\n",
       "├─────────────────────────────────┼────────────────────────┼───────────────┤\n",
       "│ max_pooling2d_80 (<span style=\"color: #0087ff; text-decoration-color: #0087ff\">MaxPooling2D</span>) │ (<span style=\"color: #00d7ff; text-decoration-color: #00d7ff\">None</span>, <span style=\"color: #00af00; text-decoration-color: #00af00\">5</span>, <span style=\"color: #00af00; text-decoration-color: #00af00\">5</span>, <span style=\"color: #00af00; text-decoration-color: #00af00\">128</span>)      │             <span style=\"color: #00af00; text-decoration-color: #00af00\">0</span> │\n",
       "├─────────────────────────────────┼────────────────────────┼───────────────┤\n",
       "│ dropout_90 (<span style=\"color: #0087ff; text-decoration-color: #0087ff\">Dropout</span>)            │ (<span style=\"color: #00d7ff; text-decoration-color: #00d7ff\">None</span>, <span style=\"color: #00af00; text-decoration-color: #00af00\">5</span>, <span style=\"color: #00af00; text-decoration-color: #00af00\">5</span>, <span style=\"color: #00af00; text-decoration-color: #00af00\">128</span>)      │             <span style=\"color: #00af00; text-decoration-color: #00af00\">0</span> │\n",
       "├─────────────────────────────────┼────────────────────────┼───────────────┤\n",
       "│ conv2d_111 (<span style=\"color: #0087ff; text-decoration-color: #0087ff\">Conv2D</span>)             │ (<span style=\"color: #00d7ff; text-decoration-color: #00d7ff\">None</span>, <span style=\"color: #00af00; text-decoration-color: #00af00\">3</span>, <span style=\"color: #00af00; text-decoration-color: #00af00\">3</span>, <span style=\"color: #00af00; text-decoration-color: #00af00\">256</span>)      │       <span style=\"color: #00af00; text-decoration-color: #00af00\">295,168</span> │\n",
       "├─────────────────────────────────┼────────────────────────┼───────────────┤\n",
       "│ batch_normalization_32          │ (<span style=\"color: #00d7ff; text-decoration-color: #00d7ff\">None</span>, <span style=\"color: #00af00; text-decoration-color: #00af00\">3</span>, <span style=\"color: #00af00; text-decoration-color: #00af00\">3</span>, <span style=\"color: #00af00; text-decoration-color: #00af00\">256</span>)      │         <span style=\"color: #00af00; text-decoration-color: #00af00\">1,024</span> │\n",
       "│ (<span style=\"color: #0087ff; text-decoration-color: #0087ff\">BatchNormalization</span>)            │                        │               │\n",
       "├─────────────────────────────────┼────────────────────────┼───────────────┤\n",
       "│ global_average_pooling2d_8      │ (<span style=\"color: #00d7ff; text-decoration-color: #00d7ff\">None</span>, <span style=\"color: #00af00; text-decoration-color: #00af00\">256</span>)            │             <span style=\"color: #00af00; text-decoration-color: #00af00\">0</span> │\n",
       "│ (<span style=\"color: #0087ff; text-decoration-color: #0087ff\">GlobalAveragePooling2D</span>)        │                        │               │\n",
       "├─────────────────────────────────┼────────────────────────┼───────────────┤\n",
       "│ dense_102 (<span style=\"color: #0087ff; text-decoration-color: #0087ff\">Dense</span>)               │ (<span style=\"color: #00d7ff; text-decoration-color: #00d7ff\">None</span>, <span style=\"color: #00af00; text-decoration-color: #00af00\">128</span>)            │        <span style=\"color: #00af00; text-decoration-color: #00af00\">32,896</span> │\n",
       "├─────────────────────────────────┼────────────────────────┼───────────────┤\n",
       "│ dropout_91 (<span style=\"color: #0087ff; text-decoration-color: #0087ff\">Dropout</span>)            │ (<span style=\"color: #00d7ff; text-decoration-color: #00d7ff\">None</span>, <span style=\"color: #00af00; text-decoration-color: #00af00\">128</span>)            │             <span style=\"color: #00af00; text-decoration-color: #00af00\">0</span> │\n",
       "├─────────────────────────────────┼────────────────────────┼───────────────┤\n",
       "│ dense_103 (<span style=\"color: #0087ff; text-decoration-color: #0087ff\">Dense</span>)               │ (<span style=\"color: #00d7ff; text-decoration-color: #00d7ff\">None</span>, <span style=\"color: #00af00; text-decoration-color: #00af00\">10</span>)             │         <span style=\"color: #00af00; text-decoration-color: #00af00\">1,290</span> │\n",
       "└─────────────────────────────────┴────────────────────────┴───────────────┘\n",
       "</pre>\n"
      ],
      "text/plain": [
       "┏━━━━━━━━━━━━━━━━━━━━━━━━━━━━━━━━━┳━━━━━━━━━━━━━━━━━━━━━━━━┳━━━━━━━━━━━━━━━┓\n",
       "┃\u001b[1m \u001b[0m\u001b[1mLayer (type)                   \u001b[0m\u001b[1m \u001b[0m┃\u001b[1m \u001b[0m\u001b[1mOutput Shape          \u001b[0m\u001b[1m \u001b[0m┃\u001b[1m \u001b[0m\u001b[1m      Param #\u001b[0m\u001b[1m \u001b[0m┃\n",
       "┡━━━━━━━━━━━━━━━━━━━━━━━━━━━━━━━━━╇━━━━━━━━━━━━━━━━━━━━━━━━╇━━━━━━━━━━━━━━━┩\n",
       "│ conv2d_109 (\u001b[38;5;33mConv2D\u001b[0m)             │ (\u001b[38;5;45mNone\u001b[0m, \u001b[38;5;34m26\u001b[0m, \u001b[38;5;34m26\u001b[0m, \u001b[38;5;34m32\u001b[0m)     │           \u001b[38;5;34m320\u001b[0m │\n",
       "├─────────────────────────────────┼────────────────────────┼───────────────┤\n",
       "│ batch_normalization_30          │ (\u001b[38;5;45mNone\u001b[0m, \u001b[38;5;34m26\u001b[0m, \u001b[38;5;34m26\u001b[0m, \u001b[38;5;34m32\u001b[0m)     │           \u001b[38;5;34m128\u001b[0m │\n",
       "│ (\u001b[38;5;33mBatchNormalization\u001b[0m)            │                        │               │\n",
       "├─────────────────────────────────┼────────────────────────┼───────────────┤\n",
       "│ max_pooling2d_79 (\u001b[38;5;33mMaxPooling2D\u001b[0m) │ (\u001b[38;5;45mNone\u001b[0m, \u001b[38;5;34m13\u001b[0m, \u001b[38;5;34m13\u001b[0m, \u001b[38;5;34m32\u001b[0m)     │             \u001b[38;5;34m0\u001b[0m │\n",
       "├─────────────────────────────────┼────────────────────────┼───────────────┤\n",
       "│ dropout_89 (\u001b[38;5;33mDropout\u001b[0m)            │ (\u001b[38;5;45mNone\u001b[0m, \u001b[38;5;34m13\u001b[0m, \u001b[38;5;34m13\u001b[0m, \u001b[38;5;34m32\u001b[0m)     │             \u001b[38;5;34m0\u001b[0m │\n",
       "├─────────────────────────────────┼────────────────────────┼───────────────┤\n",
       "│ conv2d_110 (\u001b[38;5;33mConv2D\u001b[0m)             │ (\u001b[38;5;45mNone\u001b[0m, \u001b[38;5;34m11\u001b[0m, \u001b[38;5;34m11\u001b[0m, \u001b[38;5;34m128\u001b[0m)    │        \u001b[38;5;34m36,992\u001b[0m │\n",
       "├─────────────────────────────────┼────────────────────────┼───────────────┤\n",
       "│ batch_normalization_31          │ (\u001b[38;5;45mNone\u001b[0m, \u001b[38;5;34m11\u001b[0m, \u001b[38;5;34m11\u001b[0m, \u001b[38;5;34m128\u001b[0m)    │           \u001b[38;5;34m512\u001b[0m │\n",
       "│ (\u001b[38;5;33mBatchNormalization\u001b[0m)            │                        │               │\n",
       "├─────────────────────────────────┼────────────────────────┼───────────────┤\n",
       "│ max_pooling2d_80 (\u001b[38;5;33mMaxPooling2D\u001b[0m) │ (\u001b[38;5;45mNone\u001b[0m, \u001b[38;5;34m5\u001b[0m, \u001b[38;5;34m5\u001b[0m, \u001b[38;5;34m128\u001b[0m)      │             \u001b[38;5;34m0\u001b[0m │\n",
       "├─────────────────────────────────┼────────────────────────┼───────────────┤\n",
       "│ dropout_90 (\u001b[38;5;33mDropout\u001b[0m)            │ (\u001b[38;5;45mNone\u001b[0m, \u001b[38;5;34m5\u001b[0m, \u001b[38;5;34m5\u001b[0m, \u001b[38;5;34m128\u001b[0m)      │             \u001b[38;5;34m0\u001b[0m │\n",
       "├─────────────────────────────────┼────────────────────────┼───────────────┤\n",
       "│ conv2d_111 (\u001b[38;5;33mConv2D\u001b[0m)             │ (\u001b[38;5;45mNone\u001b[0m, \u001b[38;5;34m3\u001b[0m, \u001b[38;5;34m3\u001b[0m, \u001b[38;5;34m256\u001b[0m)      │       \u001b[38;5;34m295,168\u001b[0m │\n",
       "├─────────────────────────────────┼────────────────────────┼───────────────┤\n",
       "│ batch_normalization_32          │ (\u001b[38;5;45mNone\u001b[0m, \u001b[38;5;34m3\u001b[0m, \u001b[38;5;34m3\u001b[0m, \u001b[38;5;34m256\u001b[0m)      │         \u001b[38;5;34m1,024\u001b[0m │\n",
       "│ (\u001b[38;5;33mBatchNormalization\u001b[0m)            │                        │               │\n",
       "├─────────────────────────────────┼────────────────────────┼───────────────┤\n",
       "│ global_average_pooling2d_8      │ (\u001b[38;5;45mNone\u001b[0m, \u001b[38;5;34m256\u001b[0m)            │             \u001b[38;5;34m0\u001b[0m │\n",
       "│ (\u001b[38;5;33mGlobalAveragePooling2D\u001b[0m)        │                        │               │\n",
       "├─────────────────────────────────┼────────────────────────┼───────────────┤\n",
       "│ dense_102 (\u001b[38;5;33mDense\u001b[0m)               │ (\u001b[38;5;45mNone\u001b[0m, \u001b[38;5;34m128\u001b[0m)            │        \u001b[38;5;34m32,896\u001b[0m │\n",
       "├─────────────────────────────────┼────────────────────────┼───────────────┤\n",
       "│ dropout_91 (\u001b[38;5;33mDropout\u001b[0m)            │ (\u001b[38;5;45mNone\u001b[0m, \u001b[38;5;34m128\u001b[0m)            │             \u001b[38;5;34m0\u001b[0m │\n",
       "├─────────────────────────────────┼────────────────────────┼───────────────┤\n",
       "│ dense_103 (\u001b[38;5;33mDense\u001b[0m)               │ (\u001b[38;5;45mNone\u001b[0m, \u001b[38;5;34m10\u001b[0m)             │         \u001b[38;5;34m1,290\u001b[0m │\n",
       "└─────────────────────────────────┴────────────────────────┴───────────────┘\n"
      ]
     },
     "metadata": {},
     "output_type": "display_data"
    },
    {
     "data": {
      "text/html": [
       "<pre style=\"white-space:pre;overflow-x:auto;line-height:normal;font-family:Menlo,'DejaVu Sans Mono',consolas,'Courier New',monospace\"><span style=\"font-weight: bold\"> Total params: </span><span style=\"color: #00af00; text-decoration-color: #00af00\">368,330</span> (1.41 MB)\n",
       "</pre>\n"
      ],
      "text/plain": [
       "\u001b[1m Total params: \u001b[0m\u001b[38;5;34m368,330\u001b[0m (1.41 MB)\n"
      ]
     },
     "metadata": {},
     "output_type": "display_data"
    },
    {
     "data": {
      "text/html": [
       "<pre style=\"white-space:pre;overflow-x:auto;line-height:normal;font-family:Menlo,'DejaVu Sans Mono',consolas,'Courier New',monospace\"><span style=\"font-weight: bold\"> Trainable params: </span><span style=\"color: #00af00; text-decoration-color: #00af00\">367,498</span> (1.40 MB)\n",
       "</pre>\n"
      ],
      "text/plain": [
       "\u001b[1m Trainable params: \u001b[0m\u001b[38;5;34m367,498\u001b[0m (1.40 MB)\n"
      ]
     },
     "metadata": {},
     "output_type": "display_data"
    },
    {
     "data": {
      "text/html": [
       "<pre style=\"white-space:pre;overflow-x:auto;line-height:normal;font-family:Menlo,'DejaVu Sans Mono',consolas,'Courier New',monospace\"><span style=\"font-weight: bold\"> Non-trainable params: </span><span style=\"color: #00af00; text-decoration-color: #00af00\">832</span> (3.25 KB)\n",
       "</pre>\n"
      ],
      "text/plain": [
       "\u001b[1m Non-trainable params: \u001b[0m\u001b[38;5;34m832\u001b[0m (3.25 KB)\n"
      ]
     },
     "metadata": {},
     "output_type": "display_data"
    },
    {
     "name": "stdout",
     "output_type": "stream",
     "text": [
      "Weights: [[[[-9.16235149e-05  1.80893354e-02  2.54180767e-02 ...  4.64031100e-03\n",
      "     6.78651407e-03 -3.47039327e-02]\n",
      "   [ 2.38795318e-02 -3.05005815e-02  2.60101967e-02 ...  1.73181705e-02\n",
      "     2.68068798e-02  3.02697010e-02]\n",
      "   [ 2.29385309e-02 -6.02568313e-03 -3.87945697e-02 ... -3.81729305e-02\n",
      "     2.86491252e-02 -1.61646418e-02]\n",
      "   ...\n",
      "   [-3.32870409e-02 -1.95591655e-02 -2.23798957e-02 ...  1.97829008e-02\n",
      "    -1.76733341e-02  2.72926800e-02]\n",
      "   [-3.53974625e-02  8.77529383e-03  9.98294353e-03 ... -1.49622858e-02\n",
      "    -2.13980675e-04 -4.09651212e-02]\n",
      "   [-4.09462154e-02 -2.98197381e-02 -1.62186734e-02 ...  6.53784350e-03\n",
      "     3.57854851e-02 -9.58940387e-03]]\n",
      "\n",
      "  [[ 3.46990265e-02  1.49875768e-02 -1.01917200e-02 ...  3.21852006e-02\n",
      "     1.06652267e-02  2.48418041e-02]\n",
      "   [-1.34259462e-03  1.06876008e-02 -2.19568014e-02 ...  3.45769711e-02\n",
      "     4.72004339e-03  4.08668444e-03]\n",
      "   [ 4.62039188e-03  2.79686339e-02 -2.84963660e-02 ... -1.81191768e-02\n",
      "    -1.74179189e-02 -6.65585324e-03]\n",
      "   ...\n",
      "   [-7.71277025e-03 -9.79069993e-03 -2.30169296e-03 ...  3.18696015e-02\n",
      "    -5.25448844e-03  3.20192464e-02]\n",
      "   [ 2.77093053e-03 -2.49382854e-03  1.34278722e-02 ... -1.31948795e-02\n",
      "     2.73470767e-02 -2.97338180e-02]\n",
      "   [-2.16304567e-02 -9.49013233e-03  2.56863423e-02 ... -2.86408272e-02\n",
      "    -3.80286574e-03 -4.00795341e-02]]\n",
      "\n",
      "  [[-2.22316794e-02 -3.65114808e-02 -3.96063030e-02 ...  3.46519165e-02\n",
      "    -2.49832980e-02  2.94559076e-03]\n",
      "   [-3.87649350e-02 -3.56935486e-02  1.44325309e-02 ... -3.96703556e-03\n",
      "     9.09973308e-03 -1.39289498e-02]\n",
      "   [ 1.86824612e-02  1.49176233e-02  2.52092667e-02 ... -1.58191230e-02\n",
      "     2.18880661e-02 -3.55775058e-02]\n",
      "   ...\n",
      "   [-6.29550219e-03 -3.95267904e-02 -3.63238081e-02 ...  3.00559886e-02\n",
      "    -2.26177778e-02 -4.08665463e-02]\n",
      "   [ 3.97188850e-02  3.12383510e-02  1.42062902e-02 ... -2.62307040e-02\n",
      "     2.45914273e-02 -1.51241422e-02]\n",
      "   [ 3.00446339e-02  5.47193363e-03 -1.41047146e-02 ... -3.21782045e-02\n",
      "     3.24831642e-02 -1.85523033e-02]]]\n",
      "\n",
      "\n",
      " [[[-2.28400640e-02 -6.15558028e-03 -3.71990129e-02 ... -3.58233452e-02\n",
      "     1.30899437e-02 -3.82156298e-02]\n",
      "   [-3.67529802e-02  3.23028006e-02 -3.67668197e-02 ... -2.88355350e-03\n",
      "    -1.48085859e-02 -1.71703901e-02]\n",
      "   [ 7.71794841e-03 -1.95345283e-02  2.01732516e-02 ...  3.25571336e-02\n",
      "    -4.14273255e-02  4.07910980e-02]\n",
      "   ...\n",
      "   [ 7.39876553e-03 -3.16205621e-02  2.99641602e-02 ...  1.56596899e-02\n",
      "    -1.01836734e-02  1.61226094e-02]\n",
      "   [-2.51215398e-02  1.06863789e-02  1.40558667e-02 ... -1.36046708e-02\n",
      "    -1.17812064e-02 -3.06930449e-02]\n",
      "   [-2.90039480e-02  6.64510205e-03  2.76582316e-03 ...  8.99485871e-03\n",
      "     2.02853270e-02 -1.10887792e-02]]\n",
      "\n",
      "  [[-3.42934243e-02 -7.77274370e-03 -1.81650221e-02 ...  3.90686132e-02\n",
      "     3.97530384e-02 -6.24604896e-03]\n",
      "   [-7.54522160e-03  1.15007162e-03 -1.98740475e-02 ... -3.71589884e-02\n",
      "    -1.92070007e-02  4.46662307e-03]\n",
      "   [-9.16999578e-03  1.97718143e-02 -2.10239999e-02 ...  1.37333572e-02\n",
      "     3.94208916e-02 -1.81323793e-02]\n",
      "   ...\n",
      "   [-4.39230725e-03 -3.86896133e-02  4.54674289e-03 ...  1.13490224e-03\n",
      "    -1.40157938e-02  2.34502442e-02]\n",
      "   [ 1.66728310e-02 -2.17953026e-02  3.06800008e-03 ...  2.06649713e-02\n",
      "    -2.12362707e-02 -7.01760128e-03]\n",
      "   [ 2.88957246e-02  3.72253247e-02  3.55206616e-02 ...  3.34316008e-02\n",
      "     2.13588662e-02 -3.76490168e-02]]\n",
      "\n",
      "  [[-2.24229004e-02  2.84554400e-02 -1.53083410e-02 ... -3.64661217e-03\n",
      "    -4.10856716e-02 -1.80573389e-03]\n",
      "   [-2.18506567e-02 -5.56755066e-03  3.43039744e-02 ...  3.23119573e-02\n",
      "     3.60152535e-02  1.04493685e-02]\n",
      "   [ 3.25978920e-03  3.90390344e-02  1.54645145e-02 ...  9.43005085e-03\n",
      "    -1.63449254e-02 -2.61790566e-02]\n",
      "   ...\n",
      "   [-4.05008197e-02  1.19663887e-02  3.85014899e-02 ...  2.24086456e-02\n",
      "    -2.07866132e-02  4.03983928e-02]\n",
      "   [ 2.45244391e-02 -3.04111838e-03  3.20080332e-02 ...  9.30571556e-03\n",
      "     2.00061090e-02  1.90593004e-02]\n",
      "   [-3.42826657e-02 -2.11381018e-02 -1.12945735e-02 ... -2.73657739e-02\n",
      "    -6.76779076e-03  1.80893019e-03]]]\n",
      "\n",
      "\n",
      " [[[ 3.32786627e-02 -3.32552306e-02 -6.38466328e-04 ... -2.73461156e-02\n",
      "     8.42146948e-03 -2.00090818e-02]\n",
      "   [ 1.17026754e-02  2.76575275e-02 -2.00277977e-02 ...  9.41652805e-04\n",
      "    -9.61344317e-03  3.98977473e-03]\n",
      "   [-4.00902629e-02 -9.82261822e-03  1.80036239e-02 ... -4.53754142e-03\n",
      "     2.11902596e-02 -3.50833833e-02]\n",
      "   ...\n",
      "   [-1.17769837e-03  1.06050372e-02 -1.60877816e-02 ...  3.13657522e-03\n",
      "     4.83412668e-03 -1.19337644e-02]\n",
      "   [ 4.14669104e-02 -2.52519958e-02 -4.23211977e-03 ... -1.75822582e-02\n",
      "     1.96733065e-02  3.00556533e-02]\n",
      "   [ 3.18812616e-02 -3.09812725e-02  2.84198634e-02 ... -2.61158347e-02\n",
      "    -2.54927948e-03 -2.75761988e-02]]\n",
      "\n",
      "  [[-9.82162356e-03 -3.43633592e-02 -1.09968893e-02 ...  1.19783580e-02\n",
      "    -1.90501120e-02 -7.71491602e-03]\n",
      "   [-6.55133650e-03  1.19374581e-02 -2.38178968e-02 ... -2.78737843e-02\n",
      "     6.46370649e-03  1.33329630e-03]\n",
      "   [-1.47508681e-02 -9.76002216e-03  2.44398788e-03 ...  3.29262652e-02\n",
      "     2.80429237e-02 -3.81260216e-02]\n",
      "   ...\n",
      "   [ 1.49989240e-02  3.59807052e-02  3.47321369e-02 ...  3.64717431e-02\n",
      "    -2.50145700e-02 -3.61071043e-02]\n",
      "   [ 1.55115612e-02  1.85271204e-02  4.28624079e-03 ...  9.21146199e-03\n",
      "    -1.27640963e-02  3.98481376e-02]\n",
      "   [ 1.41094215e-02 -3.06934323e-02 -3.69199626e-02 ...  3.01259048e-02\n",
      "     3.21579911e-02 -3.49797830e-02]]\n",
      "\n",
      "  [[-4.54540178e-03  3.69972028e-02 -7.36133382e-03 ...  1.06161349e-02\n",
      "    -2.91804578e-02  1.89715214e-02]\n",
      "   [-2.09533274e-02  1.99405551e-02 -3.15138921e-02 ...  2.17559934e-03\n",
      "    -2.04159319e-02  3.66903953e-02]\n",
      "   [-1.75312161e-02  2.00199671e-02 -2.69679129e-02 ...  1.86260045e-02\n",
      "     2.52566822e-02  2.01714039e-02]\n",
      "   ...\n",
      "   [-1.03869028e-02 -3.72646078e-02  4.11131419e-02 ...  3.86228003e-02\n",
      "    -3.59422565e-02 -1.18790939e-03]\n",
      "   [ 3.02971490e-02  1.04988702e-02 -1.91669967e-02 ... -1.54106729e-02\n",
      "     5.71544096e-03 -2.43324246e-02]\n",
      "   [-6.49005175e-03  4.37546521e-04  2.84786038e-02 ...  2.27947719e-02\n",
      "    -1.15668084e-02 -2.07567718e-02]]]]\n",
      "Weights shape: (3, 3, 128, 256)\n",
      "Biases: [0. 0. 0. 0. 0. 0. 0. 0. 0. 0. 0. 0. 0. 0. 0. 0. 0. 0. 0. 0. 0. 0. 0. 0.\n",
      " 0. 0. 0. 0. 0. 0. 0. 0. 0. 0. 0. 0. 0. 0. 0. 0. 0. 0. 0. 0. 0. 0. 0. 0.\n",
      " 0. 0. 0. 0. 0. 0. 0. 0. 0. 0. 0. 0. 0. 0. 0. 0. 0. 0. 0. 0. 0. 0. 0. 0.\n",
      " 0. 0. 0. 0. 0. 0. 0. 0. 0. 0. 0. 0. 0. 0. 0. 0. 0. 0. 0. 0. 0. 0. 0. 0.\n",
      " 0. 0. 0. 0. 0. 0. 0. 0. 0. 0. 0. 0. 0. 0. 0. 0. 0. 0. 0. 0. 0. 0. 0. 0.\n",
      " 0. 0. 0. 0. 0. 0. 0. 0. 0. 0. 0. 0. 0. 0. 0. 0. 0. 0. 0. 0. 0. 0. 0. 0.\n",
      " 0. 0. 0. 0. 0. 0. 0. 0. 0. 0. 0. 0. 0. 0. 0. 0. 0. 0. 0. 0. 0. 0. 0. 0.\n",
      " 0. 0. 0. 0. 0. 0. 0. 0. 0. 0. 0. 0. 0. 0. 0. 0. 0. 0. 0. 0. 0. 0. 0. 0.\n",
      " 0. 0. 0. 0. 0. 0. 0. 0. 0. 0. 0. 0. 0. 0. 0. 0. 0. 0. 0. 0. 0. 0. 0. 0.\n",
      " 0. 0. 0. 0. 0. 0. 0. 0. 0. 0. 0. 0. 0. 0. 0. 0. 0. 0. 0. 0. 0. 0. 0. 0.\n",
      " 0. 0. 0. 0. 0. 0. 0. 0. 0. 0. 0. 0. 0. 0. 0. 0.]\n",
      "Biases shape: (256,)\n"
     ]
    }
   ],
   "source": [
    "# Info about the model\n",
    "model.summary()\n",
    "\n",
    "# Show the weights and biases of the first hidden layer\n",
    "weights, biases = model.layers[8].get_weights()\n",
    "\n",
    "print(f\"Weights: {weights}\")\n",
    "\n",
    "print(f\"Weights shape: {weights.shape}\")\n",
    "\n",
    "print(f\"Biases: {biases}\")\n",
    "\n",
    "print(f\"Biases shape: {biases.shape}\")\n"
   ]
  },
  {
   "cell_type": "code",
   "execution_count": 363,
   "metadata": {},
   "outputs": [],
   "source": [
    "# Compile the model\n",
    "model.compile(\n",
    "    # Use the categorical crossentropy loss function\n",
    "    # loss='categorical_crossentropy',\n",
    "    # Use the sparse categorical crossentropy loss function\n",
    "    loss='sparse_categorical_crossentropy',\n",
    "    # Use the sgd optimizer\n",
    "    # optimizer='sgd',\n",
    "    # Use the adam optimizer\n",
    "    # optimizer='adam',\n",
    "    optimizer=SGD(learning_rate=0.1),\n",
    "    # Use accuracy as the performance metric\n",
    "    metrics=['accuracy']\n",
    ")"
   ]
  },
  {
   "cell_type": "code",
   "execution_count": 364,
   "metadata": {},
   "outputs": [
    {
     "name": "stdout",
     "output_type": "stream",
     "text": [
      "Epoch 1/30\n",
      "\u001b[1m860/860\u001b[0m \u001b[32m━━━━━━━━━━━━━━━━━━━━\u001b[0m\u001b[37m\u001b[0m \u001b[1m8s\u001b[0m 9ms/step - accuracy: 0.7429 - loss: 0.7174 - val_accuracy: 0.8304 - val_loss: 0.4542\n",
      "Epoch 2/30\n",
      "\u001b[1m860/860\u001b[0m \u001b[32m━━━━━━━━━━━━━━━━━━━━\u001b[0m\u001b[37m\u001b[0m \u001b[1m7s\u001b[0m 8ms/step - accuracy: 0.8525 - loss: 0.4055 - val_accuracy: 0.8748 - val_loss: 0.3392\n",
      "Epoch 3/30\n",
      "\u001b[1m860/860\u001b[0m \u001b[32m━━━━━━━━━━━━━━━━━━━━\u001b[0m\u001b[37m\u001b[0m \u001b[1m7s\u001b[0m 9ms/step - accuracy: 0.8737 - loss: 0.3475 - val_accuracy: 0.8866 - val_loss: 0.3150\n",
      "Epoch 4/30\n",
      "\u001b[1m860/860\u001b[0m \u001b[32m━━━━━━━━━━━━━━━━━━━━\u001b[0m\u001b[37m\u001b[0m \u001b[1m8s\u001b[0m 9ms/step - accuracy: 0.8822 - loss: 0.3261 - val_accuracy: 0.8670 - val_loss: 0.3546\n",
      "Epoch 5/30\n",
      "\u001b[1m860/860\u001b[0m \u001b[32m━━━━━━━━━━━━━━━━━━━━\u001b[0m\u001b[37m\u001b[0m \u001b[1m8s\u001b[0m 9ms/step - accuracy: 0.8899 - loss: 0.3029 - val_accuracy: 0.8916 - val_loss: 0.2979\n",
      "Epoch 6/30\n",
      "\u001b[1m860/860\u001b[0m \u001b[32m━━━━━━━━━━━━━━━━━━━━\u001b[0m\u001b[37m\u001b[0m \u001b[1m8s\u001b[0m 9ms/step - accuracy: 0.8983 - loss: 0.2796 - val_accuracy: 0.8782 - val_loss: 0.3592\n",
      "Epoch 7/30\n",
      "\u001b[1m860/860\u001b[0m \u001b[32m━━━━━━━━━━━━━━━━━━━━\u001b[0m\u001b[37m\u001b[0m \u001b[1m8s\u001b[0m 9ms/step - accuracy: 0.9030 - loss: 0.2684 - val_accuracy: 0.9080 - val_loss: 0.2539\n",
      "Epoch 8/30\n",
      "\u001b[1m860/860\u001b[0m \u001b[32m━━━━━━━━━━━━━━━━━━━━\u001b[0m\u001b[37m\u001b[0m \u001b[1m8s\u001b[0m 9ms/step - accuracy: 0.9057 - loss: 0.2595 - val_accuracy: 0.9020 - val_loss: 0.2677\n",
      "Epoch 9/30\n",
      "\u001b[1m860/860\u001b[0m \u001b[32m━━━━━━━━━━━━━━━━━━━━\u001b[0m\u001b[37m\u001b[0m \u001b[1m8s\u001b[0m 9ms/step - accuracy: 0.9054 - loss: 0.2511 - val_accuracy: 0.9094 - val_loss: 0.2446\n",
      "Epoch 10/30\n",
      "\u001b[1m860/860\u001b[0m \u001b[32m━━━━━━━━━━━━━━━━━━━━\u001b[0m\u001b[37m\u001b[0m \u001b[1m8s\u001b[0m 9ms/step - accuracy: 0.9129 - loss: 0.2413 - val_accuracy: 0.9058 - val_loss: 0.2604\n",
      "Epoch 11/30\n",
      "\u001b[1m860/860\u001b[0m \u001b[32m━━━━━━━━━━━━━━━━━━━━\u001b[0m\u001b[37m\u001b[0m \u001b[1m8s\u001b[0m 9ms/step - accuracy: 0.9156 - loss: 0.2313 - val_accuracy: 0.8548 - val_loss: 0.4601\n",
      "Epoch 12/30\n",
      "\u001b[1m860/860\u001b[0m \u001b[32m━━━━━━━━━━━━━━━━━━━━\u001b[0m\u001b[37m\u001b[0m \u001b[1m8s\u001b[0m 9ms/step - accuracy: 0.9154 - loss: 0.2275 - val_accuracy: 0.8992 - val_loss: 0.2794\n",
      "Epoch 13/30\n",
      "\u001b[1m860/860\u001b[0m \u001b[32m━━━━━━━━━━━━━━━━━━━━\u001b[0m\u001b[37m\u001b[0m \u001b[1m8s\u001b[0m 9ms/step - accuracy: 0.9201 - loss: 0.2227 - val_accuracy: 0.9000 - val_loss: 0.2666\n",
      "Epoch 14/30\n",
      "\u001b[1m860/860\u001b[0m \u001b[32m━━━━━━━━━━━━━━━━━━━━\u001b[0m\u001b[37m\u001b[0m \u001b[1m8s\u001b[0m 9ms/step - accuracy: 0.9224 - loss: 0.2107 - val_accuracy: 0.9150 - val_loss: 0.2403\n",
      "Epoch 15/30\n",
      "\u001b[1m860/860\u001b[0m \u001b[32m━━━━━━━━━━━━━━━━━━━━\u001b[0m\u001b[37m\u001b[0m \u001b[1m8s\u001b[0m 9ms/step - accuracy: 0.9223 - loss: 0.2076 - val_accuracy: 0.9178 - val_loss: 0.2310\n",
      "Epoch 16/30\n",
      "\u001b[1m860/860\u001b[0m \u001b[32m━━━━━━━━━━━━━━━━━━━━\u001b[0m\u001b[37m\u001b[0m \u001b[1m8s\u001b[0m 9ms/step - accuracy: 0.9267 - loss: 0.1988 - val_accuracy: 0.9194 - val_loss: 0.2228\n",
      "Epoch 17/30\n",
      "\u001b[1m860/860\u001b[0m \u001b[32m━━━━━━━━━━━━━━━━━━━━\u001b[0m\u001b[37m\u001b[0m \u001b[1m7s\u001b[0m 9ms/step - accuracy: 0.9284 - loss: 0.1940 - val_accuracy: 0.9180 - val_loss: 0.2225\n",
      "Epoch 18/30\n",
      "\u001b[1m860/860\u001b[0m \u001b[32m━━━━━━━━━━━━━━━━━━━━\u001b[0m\u001b[37m\u001b[0m \u001b[1m7s\u001b[0m 9ms/step - accuracy: 0.9277 - loss: 0.1952 - val_accuracy: 0.9054 - val_loss: 0.2537\n",
      "Epoch 19/30\n",
      "\u001b[1m860/860\u001b[0m \u001b[32m━━━━━━━━━━━━━━━━━━━━\u001b[0m\u001b[37m\u001b[0m \u001b[1m7s\u001b[0m 9ms/step - accuracy: 0.9322 - loss: 0.1832 - val_accuracy: 0.9188 - val_loss: 0.2202\n",
      "Epoch 20/30\n",
      "\u001b[1m860/860\u001b[0m \u001b[32m━━━━━━━━━━━━━━━━━━━━\u001b[0m\u001b[37m\u001b[0m \u001b[1m7s\u001b[0m 9ms/step - accuracy: 0.9317 - loss: 0.1822 - val_accuracy: 0.9120 - val_loss: 0.2438\n",
      "Epoch 21/30\n",
      "\u001b[1m860/860\u001b[0m \u001b[32m━━━━━━━━━━━━━━━━━━━━\u001b[0m\u001b[37m\u001b[0m \u001b[1m8s\u001b[0m 9ms/step - accuracy: 0.9322 - loss: 0.1790 - val_accuracy: 0.9116 - val_loss: 0.2574\n",
      "Epoch 22/30\n",
      "\u001b[1m860/860\u001b[0m \u001b[32m━━━━━━━━━━━━━━━━━━━━\u001b[0m\u001b[37m\u001b[0m \u001b[1m7s\u001b[0m 9ms/step - accuracy: 0.9352 - loss: 0.1693 - val_accuracy: 0.9226 - val_loss: 0.2177\n",
      "Epoch 23/30\n",
      "\u001b[1m860/860\u001b[0m \u001b[32m━━━━━━━━━━━━━━━━━━━━\u001b[0m\u001b[37m\u001b[0m \u001b[1m8s\u001b[0m 9ms/step - accuracy: 0.9366 - loss: 0.1706 - val_accuracy: 0.9230 - val_loss: 0.2244\n",
      "Epoch 24/30\n",
      "\u001b[1m860/860\u001b[0m \u001b[32m━━━━━━━━━━━━━━━━━━━━\u001b[0m\u001b[37m\u001b[0m \u001b[1m7s\u001b[0m 9ms/step - accuracy: 0.9395 - loss: 0.1667 - val_accuracy: 0.9170 - val_loss: 0.2536\n",
      "Epoch 25/30\n",
      "\u001b[1m860/860\u001b[0m \u001b[32m━━━━━━━━━━━━━━━━━━━━\u001b[0m\u001b[37m\u001b[0m \u001b[1m8s\u001b[0m 9ms/step - accuracy: 0.9395 - loss: 0.1609 - val_accuracy: 0.9088 - val_loss: 0.2612\n",
      "Epoch 26/30\n",
      "\u001b[1m860/860\u001b[0m \u001b[32m━━━━━━━━━━━━━━━━━━━━\u001b[0m\u001b[37m\u001b[0m \u001b[1m8s\u001b[0m 9ms/step - accuracy: 0.9400 - loss: 0.1592 - val_accuracy: 0.9238 - val_loss: 0.2240\n",
      "Epoch 27/30\n",
      "\u001b[1m860/860\u001b[0m \u001b[32m━━━━━━━━━━━━━━━━━━━━\u001b[0m\u001b[37m\u001b[0m \u001b[1m8s\u001b[0m 9ms/step - accuracy: 0.9414 - loss: 0.1558 - val_accuracy: 0.9142 - val_loss: 0.2586\n",
      "Epoch 28/30\n",
      "\u001b[1m860/860\u001b[0m \u001b[32m━━━━━━━━━━━━━━━━━━━━\u001b[0m\u001b[37m\u001b[0m \u001b[1m8s\u001b[0m 9ms/step - accuracy: 0.9417 - loss: 0.1539 - val_accuracy: 0.9190 - val_loss: 0.2417\n",
      "Epoch 29/30\n",
      "\u001b[1m860/860\u001b[0m \u001b[32m━━━━━━━━━━━━━━━━━━━━\u001b[0m\u001b[37m\u001b[0m \u001b[1m8s\u001b[0m 9ms/step - accuracy: 0.9447 - loss: 0.1485 - val_accuracy: 0.9218 - val_loss: 0.2474\n",
      "Epoch 30/30\n",
      "\u001b[1m860/860\u001b[0m \u001b[32m━━━━━━━━━━━━━━━━━━━━\u001b[0m\u001b[37m\u001b[0m \u001b[1m8s\u001b[0m 9ms/step - accuracy: 0.9447 - loss: 0.1476 - val_accuracy: 0.9044 - val_loss: 0.2888\n"
     ]
    }
   ],
   "source": [
    "# Training and evaluating the model\n",
    "history = model.fit(\n",
    "    x_train, y_train,\n",
    "    epochs=30,\n",
    "    batch_size=64,\n",
    "    validation_data=(x_valid, y_valid)\n",
    ")"
   ]
  },
  {
   "cell_type": "code",
   "execution_count": 365,
   "metadata": {},
   "outputs": [
    {
     "data": {
      "image/png": "[encoded data removed]",
      "text/plain": [
       "<Figure size 800x500 with 1 Axes>"
      ]
     },
     "metadata": {},
     "output_type": "display_data"
    }
   ],
   "source": [
    "pd.DataFrame(history.history).plot(figsize=(8, 5))\n",
    "plt.grid(True)\n",
    "plt.gca().set_ylim(0, 1)\n",
    "plt.show()"
   ]
  },
  {
   "cell_type": "code",
   "execution_count": 366,
   "metadata": {},
   "outputs": [
    {
     "name": "stdout",
     "output_type": "stream",
     "text": [
      "\u001b[1m313/313\u001b[0m \u001b[32m━━━━━━━━━━━━━━━━━━━━\u001b[0m\u001b[37m\u001b[0m \u001b[1m1s\u001b[0m 2ms/step - accuracy: 0.9029 - loss: 0.3248\n",
      "\u001b[1m1/1\u001b[0m \u001b[32m━━━━━━━━━━━━━━━━━━━━\u001b[0m\u001b[37m\u001b[0m \u001b[1m0s\u001b[0m 53ms/step\n",
      "[9 2 1]\n",
      "['Ankle boot' 'Pullover' 'Trouser']\n",
      "[9 2 1]\n",
      "['Ankle boot' 'Pullover' 'Trouser']\n"
     ]
    },
    {
     "data": {
      "image/png": "[encoded data removed]",
      "text/plain": [
       "<Figure size 720x240 with 3 Axes>"
      ]
     },
     "metadata": {},
     "output_type": "display_data"
    }
   ],
   "source": [
    "model.evaluate(x_test / 255.0, y_test)\n",
    "\n",
    "# Predict the class of the first 3 test images\n",
    "y_pred = model.predict(x_test[:3] / 255.0)\n",
    "\n",
    "# Print the predicted class for the first 3 test images\n",
    "print(np.argmax(y_pred, axis=1))\n",
    "# Print the predicted class name\n",
    "print(np.array(class_names)[np.argmax(y_pred, axis=1)])\n",
    "\n",
    "# Print the actual class for the first 3 test images\n",
    "print(y_test[:3])\n",
    "# Print the actual class name\n",
    "print(np.array(class_names)[y_test[:3]])\n",
    "\n",
    "# Print the images of the first 3 test images\n",
    "plt.figure(figsize=(7.2, 2.4))\n",
    "for index, image in enumerate(x_test[:3]):\n",
    "    plt.subplot(1, 3, index + 1)\n",
    "    plt.imshow(image, cmap='binary', interpolation='nearest')\n",
    "    plt.axis('off')\n",
    "    plt.title(class_names[y_test[index]], fontsize=12)\n",
    "plt.show()"
   ]
  }
 ],
 "metadata": {
  "kernelspec": {
   "display_name": ".venv",
   "language": "python",
   "name": "python3"
  },
  "language_info": {
   "codemirror_mode": {
    "name": "ipython",
    "version": 3
   },
   "file_extension": ".py",
   "mimetype": "text/x-python",
   "name": "python",
   "nbconvert_exporter": "python",
   "pygments_lexer": "ipython3",
   "version": "3.12.6"
  }
 },
 "nbformat": 4,
 "nbformat_minor": 2
}
